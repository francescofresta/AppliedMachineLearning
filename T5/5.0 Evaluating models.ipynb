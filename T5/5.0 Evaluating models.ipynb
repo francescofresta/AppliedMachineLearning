{
 "cells": [
  {
   "cell_type": "markdown",
   "metadata": {
    "id": "62Lasxi6m1jf"
   },
   "source": [
    "Here’s your text with *italics* used for the bullet point terms instead of **bold**, matching your preferred style:\n",
    "\n",
    "---\n",
    "\n",
    "# Model Evaluation\n",
    "\n",
    "### Introduction\n",
    "\n",
    "Evaluating a model goes beyond simply reporting accuracy scores; it helps us determine how robust our model is, whether it generalises well to unseen data, and highlights areas where improvements may be necessary.\n",
    "\n",
    "We focus on key techniques for evaluating machine learning models, covering a range of measurements and methods to check how well a model performs. This helps us understand whether a model is reliable and accurate enough to be useful in practice. We will discuss the following key techniques:\n",
    "\n",
    "### Classification metrics:\n",
    "\n",
    "- *Accuracy*: Measures overall correctness, useful primarily when classes are balanced and all errors have equal importance.\n",
    "\n",
    "- *Precision*: Focuses on the correctness of positive predictions, especially critical when false positives are costly (e.g., fraud detection, medical diagnostics).\n",
    "\n",
    "- *Recall (Sensitivity)*: Captures the model’s ability to identify all true positives, essential when false negatives are highly consequential (e.g., cancer detection, security threats).\n",
    "\n",
    "- *F1 Score*: Provides a balanced metric between precision and recall, ideal for evaluating models on imbalanced datasets, such as detecting rare diseases or fraudulent activities.\n",
    "\n",
    "- *ROC* (Receiver Operating Characteristic): Visualises the trade-off between true positive rate and false positive rate at different threshold settings, useful for comparing multiple models and choosing appropriate classification thresholds.\n",
    "\n",
    "- *AUC* (Area Under the ROC Curve): Provides a single numeric measure summarising the overall ability of the model to discriminate between classes; a higher AUC indicates better overall model performance.\n",
    "\n",
    "- *Confusion Matrices*: Provide detailed visualisation of where a classification model makes correct or incorrect predictions, identifying true positives, false positives, true negatives, and false negatives clearly.\n",
    "\n",
    "### Regression metrics:\n",
    "\n",
    "- *Mean Absolute Error (MAE)*: Evaluates models by equally penalising all prediction errors, offering robustness against outliers and clear interpretation (useful in scenarios like house price prediction).\n",
    "\n",
    "- *Mean Squared Error (MSE) and Root Mean Squared Error (RMSE)*: Strongly penalise larger errors, valuable when significant prediction errors must be avoided (e.g., stock price forecasting, energy consumption).\n",
    "\n",
    "- *R² Score*: Indicates how much variability in data is captured by the model, providing an intuitive understanding of model performance in predicting continuous outcomes, such as consumer spending or crop yields.\n",
    "\n",
    "### Evaluation for Neural Networks:\n",
    "\n",
    "- *Accuracy and Loss Curves*: Track training and validation performance over time, helping diagnose issues like overfitting or underfitting.\n",
    "\n",
    "- *Cross-Entropy Loss*: Measures the performance of classification neural networks, effectively quantifying how well predicted probabilities match the true class labels."
   ]
  },
  {
   "cell_type": "markdown",
   "metadata": {
    "id": "TTKfwh0wm1ji"
   },
   "source": [
    "## Evaluating machine learning classification models\n",
    "### Spam, or Ham?\n",
    "\n",
    "The *SpamBase dataset*, available from the UCI Machine Learning Repository, is commonly used in machine learning experiments focused on detecting spam emails. The goal of this dataset is to classify emails as either spam (unwanted commercial or malicious emails) or ham (legitimate, non-spam emails).\n",
    "\n",
    "- There are 4601 emails.\n",
    "- Features (attributes): 57 numeric attributes\n",
    "- Features represent word frequency (e.g., \"free\", \"credit\", \"money\"), character frequencies (e.g., exclamation marks \"!\", dollar signs \"$\"), and other indicators often found in spam emails.\n",
    "- Target Variable (Class Label):\n",
    "- is_spam: Binary class label (1 indicates spam, 0 indicates legitimate).\n",
    "\n",
    "Imagine we're testing a model designed to detect spam emails and it has been trained on some training data. Assume, we have a test dataset containing 200 emails in total.  Of these, 100 are actually *spam* and 100 are actually genuine (*not spam*). The machine learning model makes predictions about which emails are spam, and we record the predicted label.\n"
   ]
  },
  {
   "cell_type": "markdown",
   "metadata": {
    "id": "HNOEaVTLm1ji"
   },
   "source": [
    "### Install Python libraries"
   ]
  },
  {
   "cell_type": "code",
   "execution_count": null,
   "metadata": {
    "colab": {
     "base_uri": "https://localhost:8080/"
    },
    "executionInfo": {
     "elapsed": 13253,
     "status": "ok",
     "timestamp": 1742822016424,
     "user": {
      "displayName": "Martyn Harris",
      "userId": "17134958627456907188"
     },
     "user_tz": 0
    },
    "id": "TUmmF1Tdm1jj",
    "outputId": "0839bf1f-9e0a-4647-cb50-bd29d6bd9960"
   },
   "outputs": [],
   "source": [
    "!pip install pandas nltk matplotlib seaborn scikit-learn tensorflow tensorflow-datasets"
   ]
  },
  {
   "cell_type": "markdown",
   "metadata": {
    "id": "orXzB2-xe-ZR"
   },
   "source": [
    "### Loading the dataset"
   ]
  },
  {
   "cell_type": "code",
   "execution_count": null,
   "metadata": {
    "colab": {
     "base_uri": "https://localhost:8080/"
    },
    "executionInfo": {
     "elapsed": 3066,
     "status": "ok",
     "timestamp": 1742822019493,
     "user": {
      "displayName": "Martyn Harris",
      "userId": "17134958627456907188"
     },
     "user_tz": 0
    },
    "id": "9ZGBvYWfm1jj",
    "outputId": "ffe28b4a-f8fa-44b4-aa33-f3f7c268d4b5"
   },
   "outputs": [],
   "source": [
    "import pandas as pd\n",
    "\n",
    "# URL for the SpamBase dataset from UCI repository\n",
    "url = \"https://archive.ics.uci.edu/ml/machine-learning-databases/spambase/spambase.data\"\n",
    "\n",
    "# Column names from the dataset documentation\n",
    "# There are 57 feature columns and 1 label column (spam=1, not spam=0)\n",
    "column_names= [\n",
    "    # Word frequency features (percentage of words in the email that match)\n",
    "    'word_freq_make', 'word_freq_address', 'word_freq_all', 'word_freq_3d', 'word_freq_our',\n",
    "    'word_freq_over', 'word_freq_remove', 'word_freq_internet', 'word_freq_order', 'word_freq_mail',\n",
    "    'word_freq_receive', 'word_freq_will', 'word_freq_people', 'word_freq_report', 'word_freq_addresses',\n",
    "    'word_freq_free', 'word_freq_business', 'word_freq_email', 'word_freq_you', 'word_freq_credit',\n",
    "    'word_freq_your', 'word_freq_font', 'word_freq_000', 'word_freq_money', 'word_freq_hp',\n",
    "    'word_freq_hpl', 'word_freq_george', 'word_freq_650', 'word_freq_lab', 'word_freq_labs',\n",
    "    'word_freq_telnet', 'word_freq_857', 'word_freq_data', 'word_freq_415', 'word_freq_85',\n",
    "    'word_freq_technology', 'word_freq_1999', 'word_freq_parts', 'word_freq_pm', 'word_freq_direct',\n",
    "    'word_freq_cs', 'word_freq_meeting', 'word_freq_original', 'word_freq_project', 'word_freq_re',\n",
    "    'word_freq_edu', 'word_freq_table', 'word_freq_conference',\n",
    "\n",
    "    # Character frequency features (percentage of characters in the email)\n",
    "    'char_freq_;', 'char_freq_(', 'char_freq_[', 'char_freq_!', 'char_freq_$', 'char_freq_#',\n",
    "\n",
    "    # Capital run length features\n",
    "    'capital_run_length_average',\n",
    "    'capital_run_length_longest',\n",
    "    'capital_run_length_total',\n",
    "\n",
    "    # Target class (1 = spam, 0 = not spam)\n",
    "    'class'\n",
    "]\n",
    "\n",
    "# Load dataset into Pandas DataFrame\n",
    "spam_df = pd.read_csv(url, header=None, names=column_names)\n",
    "\n",
    "# Show first 5 rows of the dataset\n",
    "print(spam_df.head())"
   ]
  },
  {
   "cell_type": "markdown",
   "metadata": {
    "id": "5ytGhqIwooxK"
   },
   "source": [
    "### Prepare the train and test data (resampling)\n"
   ]
  },
  {
   "cell_type": "code",
   "execution_count": null,
   "metadata": {
    "id": "752p73KxYuku"
   },
   "outputs": [],
   "source": [
    "from sklearn.model_selection import train_test_split\n",
    "\n",
    "# Split dataset into features (X) and target labels (y)\n",
    "X = spam_df.drop(columns=['class'])\n",
    "Y = spam_df['class']\n",
    "\n",
    "seed = 7\n",
    "\n",
    "# Split into training (80%) and testing (20%) sets\n",
    "X_train, X_test, y_train, y_test = train_test_split(X, Y, test_size=0.2, random_state=seed)"
   ]
  },
  {
   "cell_type": "markdown",
   "metadata": {},
   "source": [
    "We now scale the data as a preprocessing step as many of the models we will demonstrate will benefit from it. We also set up all our models in one go and store them in a dictionary:"
   ]
  },
  {
   "cell_type": "code",
   "execution_count": null,
   "metadata": {
    "executionInfo": {
     "elapsed": 9860,
     "status": "ok",
     "timestamp": 1742822029364,
     "user": {
      "displayName": "Martyn Harris",
      "userId": "17134958627456907188"
     },
     "user_tz": 0
    },
    "id": "IpIAtWQyoxHC"
   },
   "outputs": [],
   "source": [
    "from sklearn.preprocessing import StandardScaler\n",
    "from sklearn.ensemble import RandomForestClassifier\n",
    "from sklearn.svm import SVC\n",
    "from sklearn.linear_model import LogisticRegression\n",
    "from sklearn.neighbors import KNeighborsClassifier\n",
    "from sklearn.tree import DecisionTreeClassifier\n",
    "\n",
    "\n",
    "# Standardise the features (important for models like SVM and KNN)\n",
    "scaler = StandardScaler()\n",
    "X_train = scaler.fit_transform(X_train)\n",
    "X_test = scaler.transform(X_test)\n",
    "\n",
    "# Define models for evaluation in a dictionary for handling multiple models\n",
    "models = {\n",
    "    \"Logistic Regression\": LogisticRegression(max_iter=1000),\n",
    "    \"Random Forest\": RandomForestClassifier(n_estimators=100, random_state=42),\n",
    "    \"Support Vector Machine (SVM)\": SVC(kernel=\"linear\"),\n",
    "    \"K-Nearest Neighbors\": KNeighborsClassifier(n_neighbors=5),\n",
    "    \"Decision Tree\": DecisionTreeClassifier(random_state=42)\n",
    "}\n"
   ]
  },
  {
   "cell_type": "markdown",
   "metadata": {
    "id": "lv6nR1qoo5U5"
   },
   "source": [
    "## Evaluating machine classification learning models\n",
    "Now we have a dictionary storing our models, we can iterate through each one and train it on the training data:"
   ]
  },
  {
   "cell_type": "code",
   "execution_count": null,
   "metadata": {
    "colab": {
     "base_uri": "https://localhost:8080/"
    },
    "executionInfo": {
     "elapsed": 8569,
     "status": "ok",
     "timestamp": 1742822037955,
     "user": {
      "displayName": "Martyn Harris",
      "userId": "17134958627456907188"
     },
     "user_tz": 0
    },
    "id": "wCSVsTnPpJIS",
    "outputId": "3a8091c0-918b-463b-8f90-d53adddb5c3b"
   },
   "outputs": [],
   "source": [
    "# Train each model \n",
    "for name, model in models.items():\n",
    "    print(f\"Training  Model: {name}\")\n",
    "\n",
    "    # Train the specific model\n",
    "    model.fit(X_train, y_train)"
   ]
  },
  {
   "cell_type": "markdown",
   "metadata": {
    "id": "b80n8zmLDAkU"
   },
   "source": [
    "### Accuracy\n",
    "Accuracy is a fundamental metric used to evaluate classification models, measuring the proportion of correctly predicted instances out of the total number of predictions. It is calculated as the ratio of correct predictions to the total dataset size, providing a straightforward way to assess overall model performance. For example, if a model correctly classifies 90 out of 100 test samples, its accuracy is 90%. This metric is particularly useful when dealing with balanced datasets, where all classes have roughly equal representation.\n",
    "\n",
    "However, accuracy can be misleading when applied to imbalanced datasets. In cases where one class significantly outnumbers another, a model could achieve high accuracy by simply predicting the majority class while failing to correctly classify the minority class. \n",
    "\n",
    "For example, in a fraud detection scenario where 98% of transactions are legitimate, a model that predicts \"not fraud\" for every instance would still achieve 98% accuracy, despite failing to detect any fraudulent transactions. Additionally, accuracy does not distinguish between types of errors—false positives and false negatives are weighted equally, which may not be suitable for applications where certain types of errors carry greater consequences, such as medical diagnoses or security systems. For such cases, precision, recall, and the F1-score provide a more meaningful assessment of model performance."
   ]
  },
  {
   "cell_type": "code",
   "execution_count": null,
   "metadata": {
    "colab": {
     "base_uri": "https://localhost:8080/"
    },
    "executionInfo": {
     "elapsed": 797,
     "status": "ok",
     "timestamp": 1742822038755,
     "user": {
      "displayName": "Martyn Harris",
      "userId": "17134958627456907188"
     },
     "user_tz": 0
    },
    "id": "E8A3EM9AnCuB",
    "outputId": "c5313d78-9ac4-4931-c8ed-daed7986eb87"
   },
   "outputs": [],
   "source": [
    "from sklearn.metrics import accuracy_score\n",
    "\n",
    "for name, model in models.items():\n",
    "    # Make predictions\n",
    "    y_pred = model.predict(X_test)\n",
    "\n",
    "    # Compute accuracy\n",
    "    accuracy = accuracy_score(y_test, y_pred)\n",
    "    print(f\"accuracy: {accuracy:.4f} - {name}\")"
   ]
  },
  {
   "cell_type": "markdown",
   "metadata": {
    "id": "WFbxJ453m1jl"
   },
   "source": [
    "### Precision, Recall, and F1-score\n",
    "These metrics are especially useful for datasets where certain outcomes are rare or imbalanced:\n",
    "\n",
    "- Precision means: \"Of all predictions marked positive, how many are truly positive?\" It's critical when false positives have a high cost (e.g., legitimate emails marked as spam).\n",
    "\n",
    "- Recall (Sensitivity) answers: \"Of all actual positives, how many did we correctly predict?\" It's essential when false negatives carry significant risks (e.g., detecting diseases).\n",
    "\n",
    "Then we have the F1-Score, which provides a balance, offering a single metric that incorporates both precision and recall, especially useful for imbalanced datasets as we said before."
   ]
  },
  {
   "cell_type": "code",
   "execution_count": null,
   "metadata": {
    "colab": {
     "base_uri": "https://localhost:8080/"
    },
    "executionInfo": {
     "elapsed": 674,
     "status": "ok",
     "timestamp": 1742822039431,
     "user": {
      "displayName": "Martyn Harris",
      "userId": "17134958627456907188"
     },
     "user_tz": 0
    },
    "id": "kAqHqt6yO9R0",
    "outputId": "782f4110-e12a-4d8c-fc8a-b746829da994"
   },
   "outputs": [],
   "source": [
    "from sklearn.metrics import classification_report\n",
    "\n",
    "for name, model in models.items():\n",
    "    # Make predictions\n",
    "    y_pred = model.predict(X_test)\n",
    "\n",
    "    # Display classification report\n",
    "    print(f\"classification report - {name}:\")\n",
    "    \n",
    "    print(classification_report(y_test, y_pred))\n"
   ]
  },
  {
   "cell_type": "markdown",
   "metadata": {
    "id": "x1yBW8eSDHGz"
   },
   "source": [
    "### ROC Curve and AUC\n",
    "The *ROC* (*Receiver Operating Characteristic*) curve shows how well the model balances sensitivity (how well it catches the correct positive cases) and specificity (how well it avoids false alarms). It does this by plotting the true positive rate against the false positive rate at different thresholds.\n",
    "\n",
    "The *AUC* (*Area Under the Curve*) gives a single number that summarises how well the model can tell the difference between classes. A higher AUC means better performance:\n",
    "\n",
    "- 1.0 = perfect separation between classes\n",
    "\n",
    "- 0.5 = no better than random guessing\n",
    "\n",
    "ROC curves are especially useful when you want to see which classes your model finds harder to predict. This is important in imbalanced datasets (where some classes have many more examples than others), where accuracy can be misleading."
   ]
  },
  {
   "cell_type": "code",
   "execution_count": null,
   "metadata": {
    "colab": {
     "base_uri": "https://localhost:8080/",
     "height": 564
    },
    "executionInfo": {
     "elapsed": 1510,
     "status": "ok",
     "timestamp": 1742822040943,
     "user": {
      "displayName": "Martyn Harris",
      "userId": "17134958627456907188"
     },
     "user_tz": 0
    },
    "id": "BnoO93pzL1os",
    "outputId": "e96d2b96-60a1-4592-9055-36e9fd976666"
   },
   "outputs": [],
   "source": [
    "from sklearn.metrics import classification_report, roc_curve, auc\n",
    "import matplotlib.pyplot as plt\n",
    "\n",
    "plt.figure(figsize=(8, 6))  # Set figure size for ROC plot\n",
    "\n",
    "# Loop through each model in the dictionary\n",
    "for name, model in models.items():\n",
    "    # Get predicted probabilities or decision scores for the positive class\n",
    "    if hasattr(model, \"predict_proba\"):\n",
    "        y_probs = model.predict_proba(X_test)[:, 1]  # Use probability for class 1 (e.g. spam)\n",
    "    else:\n",
    "        y_probs = model.decision_function(X_test)  # Use decision scores (e.g. for SVM)\n",
    "\n",
    "    # Calculate false positive rate and true positive rate\n",
    "    fpr, tpr, _ = roc_curve(y_test, y_probs)\n",
    "    roc_auc = auc(fpr, tpr)  # Area Under the Curve (AUC)\n",
    "\n",
    "    # Plot ROC curve for the current model\n",
    "    plt.plot(fpr, tpr, label=f\"{name} (AUC = {roc_auc:.2f})\")\n",
    "\n",
    "# Add diagonal line representing random guessing\n",
    "plt.plot([0, 1], [0, 1], \"k--\", label=\"Random guessing\")\n",
    "\n",
    "# Add axis labels and title\n",
    "plt.xlabel(\"False Positive Rate\")\n",
    "plt.ylabel(\"True Positive Rate\")\n",
    "plt.title(\"ROC curves for different models\")\n",
    "\n",
    "# Show legend and grid\n",
    "plt.legend()\n",
    "plt.grid(True)"
   ]
  },
  {
   "cell_type": "markdown",
   "metadata": {
    "id": "qgTWVo-XEour"
   },
   "source": [
    "### Confusion Matrices\n",
    "\n",
    "A *confusion matrix* is a straightforward table used to measure how well a classification model is doing. It clearly shows the number of times the model makes correct and incorrect predictions, helping us quickly understand its performance. There are several key values in a confusion matrix:\n",
    "\n",
    "### True Positives (TP):\n",
    "This is the count of Emails the model correctly identified as spam. So you would count every email that the model predicted *as spam* and is *actually spam*. In our example, the model correctly labelled 80 out of 100 actual spam emails, which we define as *TP = 80*.\n",
    "\n",
    "### False Negatives (FN):\n",
    "Emails the model missed (predicted incorrectly as genuine emails, even though they were spam). Count every email the model labelled as *not spam* but was *actually spam*. For illustration, assume that out of the 100 spam emails, the model missed *20 emails* to give *FN = 20*.  \n",
    "*Note*: TP + FN = total actual spam emails, 80 + 20 = 100.\n",
    "\n",
    "### False Positives (FP):\n",
    "Emails incorrectly marked as spam when they were actually genuine. Here, we count emails that the model labelled *as spam* but were *actually not spam*. In our model, the model incorrectly flagged *10 genuine emails* as spam giving *FP = 10*.\n",
    "\n",
    "### True Negatives (TN):\n",
    "Emails correctly recognised as genuine (non-spam). We count emails that the model labelled as not spam and were indeed actually not spam. If we have 100 genuine emails in out data, and the model correctly identified *90* as genuine, we have *TN = 90*.  \n",
    "*Note*: FP + TN = total actual genuine emails, 10 + 90 = 100."
   ]
  },
  {
   "cell_type": "markdown",
   "metadata": {},
   "source": [
    "The confusion matrix breaks down predictions into these four categories, arranged into a table:\n",
    "\n",
    "|                   | **Predicted: Positive** | **Predicted: Negative** |\n",
    "|-------------------|-------------------------|-------------------------|\n",
    "| **Actual: Positive** | TP = 80                | FN = 20               |\n",
    "| **Actual: Negative** | FP = 10                | TN = 90               |\n",
    "\n",
    "We have included TP, FP, FN, and TN for reference. In a true confusion matrix we would just observe the numeric values. From this confusion matrix, we can quickly assess how well the model performs:\n",
    "\n",
    "- Overall, the model made 170 correct predictions out of 200 (85% accuracy).\n",
    "- Of all emails marked spam (90), 80 actually were spam, meaning precision = 80/90 ≈ 89%. This measures reliability.\n",
    "- Of all actual spam emails (100), the model correctly identified 80, meaning recall = 80%. This measures how effectively the model catches real spam.\n",
    "\n",
    "This breakdown helps us easily spot exactly where the model is getting things right or wrong, and guides us in improving its predictions — whether it's reducing false alerts (false positives) or catching more missed cases (false negatives).\n",
    "\n",
    "In practical terms, confusion matrices help spot if your spam detection model is missing too many real spam emails (false negatives), or incorrectly marking legitimate emails as spam (false positives):"
   ]
  },
  {
   "cell_type": "code",
   "execution_count": null,
   "metadata": {
    "colab": {
     "base_uri": "https://localhost:8080/",
     "height": 1000
    },
    "executionInfo": {
     "elapsed": 4897,
     "status": "ok",
     "timestamp": 1742822045841,
     "user": {
      "displayName": "Martyn Harris",
      "userId": "17134958627456907188"
     },
     "user_tz": 0
    },
    "id": "jkYkrzXNpzeK",
    "outputId": "907a5079-2d4d-4501-cabe-4b7367f1f9f7"
   },
   "outputs": [],
   "source": [
    "from sklearn.metrics import confusion_matrix\n",
    "import seaborn as sns\n",
    "import matplotlib.pyplot as plt\n",
    "\n",
    "for name, model in models.items():\n",
    "    # Make predictions\n",
    "    y_pred = model.predict(X_test)\n",
    "\n",
    "    # Compute and display confusion matrix\n",
    "    cm = confusion_matrix(y_test, y_pred)\n",
    "    \n",
    "    plt.figure(figsize=(5, 4))\n",
    "    \n",
    "    sns.heatmap(cm, annot=True, fmt=\"d\", cmap=\"Blues\", xticklabels=[\"Not Spam\", \"Spam\"], yticklabels=[\"Not Spam\", \"Spam\"])\n",
    "    \n",
    "    plt.xlabel(\"Predicted Label\")\n",
    "    plt.ylabel(\"Actual Label\")\n",
    "    \n",
    "    plt.title(f\"{name}\")"
   ]
  },
  {
   "cell_type": "markdown",
   "metadata": {
    "id": "gSUSrJ7eF6EL"
   },
   "source": [
    "### Evaluating Neural Network classification models\n",
    "Neural networks often require specialised evaluation methods. We commonly look at accuracy, loss curves, and cross-entropy loss:\n",
    "\n",
    "- *Accuracy* can be used as before to indicate overall prediction correctness, but can be misleading if classes are imbalanced. \n",
    "\n",
    "- *Loss Curves* track model improvement over training epochs. When we plot these curves, we should ideally, we should see training and validation losses consistently decrease and eventually stabilise.\n",
    "\n",
    "- *Cross-Entropy Loss* specifically measures the divergence between predicted probabilities and actual values, commonly used for classification problems.\n",
    "\n",
    "In the next part, we will explore these methods and their use for evaluating neural network models. So far, we have looked at binary classification (Spam vs Ham), so let's now consider a multi-class classification problem at the same time."
   ]
  },
  {
   "cell_type": "markdown",
   "metadata": {
    "id": "I-x-8HZ_Rfyc"
   },
   "source": [
    "## EuroSAT - multi-class problem\n",
    "EuroSAT is a dataset of satellite images that helps researchers and engineers train artificial intelligence (AI) models to analyse land use and environmental changes from space. It consists of thousands of high-resolution images captured by the European Space Agency’s Sentinel-2 satellite, covering ten different land types such as forests, farmland, motorways, rivers, and urban areas.\n",
    "\n",
    "This dataset is particularly useful for *remote sensing*, where AI can monitor deforestation, water bodies, and urban expansion over time. In *agriculture*, it helps farmers and policymakers track crop health, detect drought-affected regions, and optimise land use for better food production. In *urban planning*, EuroSAT assists governments in mapping city growth, identifying infrastructure needs, and managing natural resources more efficiently.\n",
    "\n",
    "Models trained on EuroSAT, can help scientists develop automated systems to monitor environmental changes, improve disaster response, and make smarter decisions for sustainable development."
   ]
  },
  {
   "cell_type": "markdown",
   "metadata": {
    "id": "gc8fUdZvT6J1"
   },
   "source": [
    "### Loading the data\n",
    "\n",
    "First, we'll load the dataset, which is packaged with the tensorflow library. We will preprocess the images by resizing and normalising before training:"
   ]
  },
  {
   "cell_type": "code",
   "execution_count": null,
   "metadata": {
    "colab": {
     "base_uri": "https://localhost:8080/",
     "height": 202,
     "referenced_widgets": [
      "9d51812e54934c37b3e9cc5e573c58d7",
      "cf455f63ddbc48cab4a2728e38148109",
      "7926deb3dee04cadac5f7bff217a3774",
      "4a8d15d7a75b49098b5cb35079b9bd27",
      "91129b870ade4efb8c145939cd4f9199",
      "542a7377c68c40c48220c02483a7be3c",
      "16a736ad4af44e2880d96fa2f3f6d36f",
      "6ee588cb65c145bc8de88bf267b61ff3",
      "5f3708ce984c41f89782a639389e74e7",
      "80233ed9c2d64dfc8904b9f03dd21abd",
      "3959907d7cbd45c8aef909bc00fe40db",
      "e0941af186544c939a2e8cbb291e5fb7",
      "6dabed7a48984b279e72cdd2898deda5",
      "dea55a73427b4cf0bb0dae298ab278a6",
      "f767af43e1e14cdda775c620117a6f29",
      "7b1b2e99496746d7b8f81376aacf367b",
      "a37aa4ac1c2e46dd90558015c944bb71",
      "81bc2656be7045349be20cc503c9ac07",
      "12d89e5277c7455281e6708c950e494d",
      "95d39be4dea34bd49964529dc4f2f73d",
      "b92e7883b26e477d9bf81df34f39d248",
      "6541008a3f7c4ef698fb5c1c7fd0eb20",
      "84c1c64df1154fd49817fb32da697ee8",
      "bca56b3836f54242b648292444000f18",
      "31d4b47de6cf4f9b810a141fbaf7f493",
      "7a8617ea913a43588d7df9ad8e16c649",
      "1e246ce351534c0d94e531358aa1c21a",
      "edaec39a26cf4165b6668aa00150f15f",
      "984a2fb0a36748baa33a0b2746c2ef4e",
      "8d899b42a85e401cbb85e5b63c432bd0",
      "1899f375028243ae9daa3caae27fdc37",
      "af6ae0e02c884926b518529d5814f472",
      "c10dccb4be70461696a390cc52d04efc",
      "74ef47d9d79b44218d89e34e4f59ac70",
      "251a1a5c09ee41df8238224bb50c7a24",
      "ca81dad8a60f43d5bd9b04459921a66c",
      "730678d7f4b249fca5c89b598bf46a3d",
      "942062d11ce34ce8afe6352e3eb691a5",
      "c997faab86114b0d8285bb1ff9eb0745",
      "bd304e7cd06c407f802479380a11c6ae",
      "4990ed05bd534db6b77df434eeae8666",
      "ba3c84c8cb5f4d0a944623645cc270ff",
      "8418a23c846f4bb0b0c9c48e79577c95",
      "8335c818bd184ff28a740b7dbfcfbfe4",
      "8f168bfa1f9d48bfb076eb652b48b321",
      "e0607968dbbd4c06a05c792c8070e116",
      "d19d2449c7bb43f786dbcf3fea680815",
      "24664b39552d4e81bd754f68d7867755",
      "654d94d149e84c9a884cfa910fa5c46a",
      "165fba41714b4c72ac29080f67e54c8e",
      "b8e893c14adc464288714e73f47b51bd",
      "32ea1f3568da4369af45078af4b0ba0e",
      "33ab054e11f24639800a732fe7b418f1",
      "1b5f927600804fc4a15c858a54a5d1c9",
      "884e6a5aa18e4c1590cd289f9c5b530e",
      "9b164849058c433d93b1c078e4de24f1",
      "00ad264d0f8d4d6ea4e5219d833d673a",
      "9431943e740e43baa8584ee282bbf1a2",
      "50ce50aa3bef448b8cd85923ad7ac7e1",
      "e9cbb7e87e8c4814bc1204e88f2e27ad",
      "d0425649b0cf45ed8714d3d59fa8062e",
      "c4e50d36831e43f2a846bf3b02122e8f",
      "334642e66cb140eba0f86db46d35c5b9",
      "e59c2d0c57fe43f1b8d6e0af3196595b",
      "770424d59e4e4e798389fd863834e74a",
      "3d5d134463914afa984b0c4c506c1f2d"
     ]
    },
    "executionInfo": {
     "elapsed": 154907,
     "status": "ok",
     "timestamp": 1742822200749,
     "user": {
      "displayName": "Martyn Harris",
      "userId": "17134958627456907188"
     },
     "user_tz": 0
    },
    "id": "TS1vBo8xRjP8",
    "outputId": "f48076c8-72b7-44d0-9871-d9af7864cfd8"
   },
   "outputs": [],
   "source": [
    "import tensorflow as tf\n",
    "import tensorflow_datasets as tfds\n",
    "\n",
    "# Load the EuroSAT dataset (RGB version) with labels and metadata\n",
    "dataset, info = tfds.load(\n",
    "    \"eurosat/rgb\",             # Dataset name\n",
    "    as_supervised=True,        # Return (image, label) pairs\n",
    "    with_info=True,            # Include metadata (e.g. class names)\n",
    "    split='train'              # Load the training split (all images are in this split)\n",
    ")\n",
    "\n",
    "# Define a preprocessing function to prepare the images\n",
    "def preprocess(image, label):\n",
    "    image = tf.image.resize(image, (64, 64))  # Resize all images to 64x64\n",
    "    image = image / 255.0                     # Normalise pixel values to range [0, 1]\n",
    "    return image, label\n",
    "\n",
    "# Apply the preprocessing to the entire dataset\n",
    "dataset = dataset.map(preprocess)\n",
    "\n",
    "# Extract class names and number of classes from the dataset metadata\n",
    "class_names = info.features[\"label\"].names\n",
    "num_classes = len(class_names)\n",
    "\n",
    "# Print summary information\n",
    "print(f\"Dataset loaded with {num_classes} classes: {class_names}\")\n"
   ]
  },
  {
   "cell_type": "markdown",
   "metadata": {
    "id": "T99SUj0oZp0E"
   },
   "source": [
    "We visualise a sample of the dataset by first shuffling the images, and then performing random sampling. Next, we batch images to easily fetch multiple images at once, and convert the labels to readable class names for clearer visualisation, before plotting the samples:"
   ]
  },
  {
   "cell_type": "code",
   "execution_count": null,
   "metadata": {
    "colab": {
     "base_uri": "https://localhost:8080/",
     "height": 965
    },
    "executionInfo": {
     "elapsed": 86,
     "status": "ok",
     "timestamp": 1742822200837,
     "user": {
      "displayName": "Martyn Harris",
      "userId": "17134958627456907188"
     },
     "user_tz": 0
    },
    "id": "QCRRFsAZZgr0",
    "outputId": "89aafdbc-7832-4286-a97d-eb08108b24b5"
   },
   "outputs": [],
   "source": [
    "import matplotlib.pyplot as plt\n",
    "\n",
    "# Plot 12 random images from the dataset\n",
    "plt.figure(figsize=(12, 10))  # Set up a large figure for 12 images\n",
    "\n",
    "# Shuffle the dataset, take a batch of 12 images, and plot them\n",
    "for images, labels in dataset.shuffle(1000).batch(12).take(1):\n",
    "    for i in range(12):\n",
    "        plt.subplot(3, 4, i + 1)  # Arrange images in a 3x4 grid\n",
    "        plt.imshow(images[i].numpy())  # Convert tensor to NumPy array and display image\n",
    "        plt.title(class_names[labels[i]])  # Display the class name as the title\n",
    "        plt.axis('off')  # Hide axis ticks for cleaner layout\n",
    "\n",
    "# Add a main title and adjust spacing\n",
    "plt.suptitle('Sample images from EuroSAT dataset', fontsize=16)\n",
    "plt.tight_layout()\n"
   ]
  },
  {
   "cell_type": "markdown",
   "metadata": {
    "id": "97ssjxdYUN_8"
   },
   "source": [
    "We will define and train a neural network for classifcation of images based on multiple classes by way of a more advanced example.\n",
    "\n",
    "We'll use a *Convolutional Neural Network* (CNN), to demonstrate, which is a common choice for image classification. We will explore these models in more depth when we look at deep learning, but for now, the process is the same as we have seen before using classical machine learning models. We extract train and test sets with 80% of the data used for training and 20% for testing:"
   ]
  },
  {
   "cell_type": "code",
   "execution_count": null,
   "metadata": {
    "colab": {
     "base_uri": "https://localhost:8080/"
    },
    "executionInfo": {
     "elapsed": 12784,
     "status": "ok",
     "timestamp": 1742822213622,
     "user": {
      "displayName": "Martyn Harris",
      "userId": "17134958627456907188"
     },
     "user_tz": 0
    },
    "id": "eMD1X1plUGUc",
    "outputId": "fbf1f83e-2394-405f-e595-c48215801a96"
   },
   "outputs": [],
   "source": [
    "# Shuffle and split dataset\n",
    "train_size = 0.8  # Proportion of data to use for training\n",
    "total_size = len(list(dataset))  # Get total number of samples in the dataset\n",
    "\n",
    "train_count = int(total_size * train_size)  # Calculate number of training samples\n",
    "\n",
    "# Shuffle dataset with a buffer size of 1000 (for randomness)\n",
    "dataset = dataset.shuffle(1000)\n",
    "\n",
    "# Split into training and test sets, then batch both\n",
    "train_dataset = dataset.take(train_count).batch(32)  # Take first N samples for training\n",
    "test_dataset = dataset.skip(train_count).batch(32)   # Skip N samples for testing\n",
    "\n",
    "# Display how many samples are in each split\n",
    "print(f\"Train samples: {train_count}, Test samples: {total_size - train_count}\")\n"
   ]
  },
  {
   "cell_type": "markdown",
   "metadata": {
    "id": "nvfbkpLLjs5R"
   },
   "source": [
    "The next part of our code builds and trains an image classification model using the CNN model.\n",
    "\n",
    "The CNN consists of three *convolutional layers*, these are special layers that act like filters scanning over the image to detect patterns such as edges, shapes, or textures—much like how our eyes might notice outlines or corners that detect patterns in the images.  The model processes our images (64×64 pixels, with 3 color channels) and learns patterns through these layers by way of feature extraction.\n",
    "\n",
    "This is followed by *max-pooling layers*, which shrink the image by taking only the most important information from small sections—imagine looking at a group of pixels and keeping only the brightest one to simplify the picture without losing key details. In short, this step reduces the image size while keeping important features.\n",
    "\n",
    "The extracted information is then flattened to convert it from a 2D or 3D structure into a single long line of numbers, so it can be used by regular layers of a neural network. These are passed through *dense layers*, which are fully connected layers where every number influences the output, helping the network learn complex combinations and patterns. This includes a *dropout layer* -- a safety mechanism that randomly turns off some connections during training to prevent the model from relying too heavily on any one pattern. This helps avoid overfitting, so that the network does not simply memorise the training data, but instead can generalise to new inputs). \n",
    "\n",
    "Finally, the *softmax output layer* turns the model’s raw scores into probabilities, so it can assign probabilities to different classes of image in terms of whether an image is more likely representative of farm land, urban, or residential areas.\n",
    "\n",
    "The model is compiled using the *Adam optimiser* -- a smart method that adjusts how much the model changes during learning, which helps the model learn faster and more efficiently by balancing how quickly or slowly it updates its guesses. \n",
    "\n",
    "We also use *sparse categorical cross-entropy loss* as a way to measure how far off the model’s predictions are from the correct answers when dealing with multiple categories; it works especially well when the correct answers are given as simple numbers, like 0, 1, 2, etc. \n",
    "\n",
    "Training happens over 10 epochs, using a training dataset and validating against a test dataset. After training, the model is saved for future use:"
   ]
  },
  {
   "cell_type": "code",
   "execution_count": null,
   "metadata": {
    "colab": {
     "base_uri": "https://localhost:8080/"
    },
    "executionInfo": {
     "elapsed": 1754732,
     "status": "ok",
     "timestamp": 1742823968340,
     "user": {
      "displayName": "Martyn Harris",
      "userId": "17134958627456907188"
     },
     "user_tz": 0
    },
    "id": "tyaiawTMUPj8",
    "outputId": "806242da-c70f-4498-d3a0-66b5284066a6"
   },
   "outputs": [],
   "source": [
    "from tensorflow import keras\n",
    "from tensorflow.keras import layers\n",
    "\n",
    "epochs_n = 5  # Number of training epochs\n",
    "\n",
    "# Define a Convolutional Neural Network (CNN) model\n",
    "model = keras.Sequential([\n",
    "    keras.Input(shape=(64, 64, 3)),  # Input layer for 64x64 RGB images\n",
    "    layers.Conv2D(32, (3, 3), activation=\"relu\"),  # First convolutional layer\n",
    "    layers.MaxPooling2D(2, 2),                     # First max-pooling layer\n",
    "    layers.Conv2D(64, (3, 3), activation=\"relu\"),  # Second convolutional layer\n",
    "    layers.MaxPooling2D(2, 2),                     # Second max-pooling layer\n",
    "    layers.Conv2D(128, (3, 3), activation=\"relu\"), # Third convolutional layer\n",
    "    layers.MaxPooling2D(2, 2),                     # Third max-pooling layer\n",
    "    layers.Flatten(),                              # Flatten the feature maps into a vector\n",
    "    layers.Dense(128, activation=\"relu\"),          # Fully connected dense layer\n",
    "    layers.Dropout(0.5),                           # Dropout for regularisation (prevent overfitting)\n",
    "    layers.Dense(num_classes, activation=\"softmax\")  # Output layer for multi-class classification\n",
    "])\n",
    "\n",
    "# Compile the model with optimiser, loss function, and evaluation metric\n",
    "model.compile(\n",
    "    optimizer=\"adam\", \n",
    "    loss=\"sparse_categorical_crossentropy\",  # Use sparse labels (integers) for classification\n",
    "    metrics=[\"accuracy\"]\n",
    ")\n",
    "\n",
    "# Train the model using the training dataset and validate on the test dataset\n",
    "history = model.fit(train_dataset, validation_data=test_dataset, epochs=epochs_n)\n",
    "\n",
    "# Save the trained model to a file\n",
    "model.save('model.keras')"
   ]
  },
  {
   "cell_type": "markdown",
   "metadata": {
    "id": "PTh3o7ssaIj0"
   },
   "source": [
    "Now the model has been trained, we can make predictions using our test image set. Let's plot a sample of test images with true and predicted labels to get a visual summary of how well the model is doing and what classes it might be struggling with:"
   ]
  },
  {
   "cell_type": "code",
   "execution_count": null,
   "metadata": {
    "colab": {
     "base_uri": "https://localhost:8080/",
     "height": 1000
    },
    "executionInfo": {
     "elapsed": 3500,
     "status": "ok",
     "timestamp": 1742823971855,
     "user": {
      "displayName": "Martyn Harris",
      "userId": "17134958627456907188"
     },
     "user_tz": 0
    },
    "id": "ny4YV8z8aDS7",
    "outputId": "eff0b92d-271a-443d-f6a1-e5b032d63b2e"
   },
   "outputs": [],
   "source": [
    "import numpy as np\n",
    "\n",
    "# Create a large figure for displaying multiple images in a grid\n",
    "plt.figure(figsize=(15, 12))  \n",
    "\n",
    "# Get one batch of images and labels from the test dataset\n",
    "for images, labels in test_dataset.take(1):\n",
    "    # Predict class probabilities for each image in the batch\n",
    "    preds = model.predict(images)\n",
    "\n",
    "    # For each prediction, take the index of the highest probability as the predicted class\n",
    "    pred_labels = np.argmax(preds, axis=1)\n",
    "\n",
    "    # Loop through the first 12 images in the batch\n",
    "    for i in range(12):\n",
    "        # Set up a subplot: 3 rows × 4 columns\n",
    "        plt.subplot(3, 4, i + 1)\n",
    "        plt.imshow(images[i].numpy())  # Convert tensor to array and display the image\n",
    "\n",
    "        # Get the true and predicted class names\n",
    "        true_label = class_names[labels.numpy()[i]]\n",
    "        predicted_label = class_names[pred_labels[i]]\n",
    "\n",
    "        # Choose colour: green if prediction is correct, red otherwise\n",
    "        colour = \"green\" if true_label == predicted_label else \"red\"\n",
    "\n",
    "        # Display labels as title above the image\n",
    "        plt.title(f\"True: {true_label}\\nPred: {predicted_label}\", color=colour)\n",
    "        plt.axis('off')  # Hide axes to keep the layout clean\n",
    "\n",
    "# Add a main title for the full set of subplots\n",
    "plt.suptitle('Sample predictions from EuroSAT Dataset', fontsize=16)\n"
   ]
  },
  {
   "cell_type": "markdown",
   "metadata": {
    "id": "7IWSLmBIUW8M"
   },
   "source": [
    "We will now evaluate the model on the whole test dataset and collect predictions for further analysis. We start by using `model.evaluate(test_dataset)`, which calculates the test *loss* and *accuracy*, providing an initial measure of performance. The test accuracy is then printed to give an immediate indication of how well the model generalises to unseen data."
   ]
  },
  {
   "cell_type": "code",
   "execution_count": null,
   "metadata": {
    "colab": {
     "base_uri": "https://localhost:8080/"
    },
    "executionInfo": {
     "elapsed": 47133,
     "status": "ok",
     "timestamp": 1742824018990,
     "user": {
      "displayName": "Martyn Harris",
      "userId": "17134958627456907188"
     },
     "user_tz": 0
    },
    "id": "0kb9EgovUcxk",
    "outputId": "a851bc48-21cc-4c94-a278-e474cfc36f8d"
   },
   "outputs": [],
   "source": [
    "import numpy as np                              # For array operations\n",
    "from sklearn.metrics import classification_report, confusion_matrix  # For evaluation metrics\n",
    "import matplotlib.pyplot as plt                 # For plotting\n",
    "import seaborn as sns                           # For heatmaps and advanced visuals\n",
    "\n",
    "# Evaluate the trained model on the test dataset\n",
    "test_loss, test_acc = model.evaluate(test_dataset)\n",
    "print(f\"Test Accuracy: {test_acc:.4f}\")  # Display test accuracy (formatted to 4 decimal places)\n"
   ]
  },
  {
   "cell_type": "markdown",
   "metadata": {},
   "source": [
    "Next, we iterate through the test dataset to extract actual labels (`y_true`) and predicted labels (`y_pred`). The model generates predictions in the form of class probability distributions, and `np.argmax(preds, axis=1)` selects the most probable class for each instance. \n",
    "\n",
    "The actual labels, initially stored as tensors, are converted to NumPy arrays using `labels.numpy()`. These predictions and true labels can later be used to compute additional evaluation metrics such as *precision*, *recall*, and *confusion matrices* to gain deeper insights into the model's strengths and weaknesses."
   ]
  },
  {
   "cell_type": "code",
   "execution_count": null,
   "metadata": {},
   "outputs": [],
   "source": [
    "# Prepare lists for true and predicted labels\n",
    "y_true = []\n",
    "y_pred = []\n",
    "\n",
    "# Loop through test dataset and collect predictions\n",
    "for images, labels in test_dataset:\n",
    "    preds = model.predict(images)  # Predict class probabilities\n",
    "    y_pred.extend(np.argmax(preds, axis=1))  # Get predicted class index\n",
    "    y_true.extend(labels.numpy())            # Get true labels from tensor\n"
   ]
  },
  {
   "cell_type": "markdown",
   "metadata": {
    "id": "3Lt0K5yKMCkb"
   },
   "source": [
    "### Accuracy\n",
    "We first inspect the accuracy of our neural network model:"
   ]
  },
  {
   "cell_type": "code",
   "execution_count": null,
   "metadata": {
    "colab": {
     "base_uri": "https://localhost:8080/"
    },
    "executionInfo": {
     "elapsed": 12222,
     "status": "ok",
     "timestamp": 1742824031216,
     "user": {
      "displayName": "Martyn Harris",
      "userId": "17134958627456907188"
     },
     "user_tz": 0
    },
    "id": "newMwvkPMFLr",
    "outputId": "58130b14-36b4-40bd-a3e2-932c42f8ced2"
   },
   "outputs": [],
   "source": [
    "# Evaluate the model\n",
    "test_loss, test_acc = model.evaluate(test_dataset)\n",
    "\n",
    "print(f\"Test Accuracy: {test_acc:.4f}\")"
   ]
  },
  {
   "cell_type": "markdown",
   "metadata": {
    "id": "T-ozkmUZM6F7"
   },
   "source": [
    "### Precision, Recall, and F1-Score\n",
    "Next, we breakdown the models performance for all the classes. As we said, this measure is crucial in situations with imbalanced datasets, as accuracy alone might be misleading:"
   ]
  },
  {
   "cell_type": "code",
   "execution_count": null,
   "metadata": {
    "colab": {
     "base_uri": "https://localhost:8080/"
    },
    "executionInfo": {
     "elapsed": 29,
     "status": "ok",
     "timestamp": 1742824031249,
     "user": {
      "displayName": "Martyn Harris",
      "userId": "17134958627456907188"
     },
     "user_tz": 0
    },
    "id": "P6at2AYQM6QL",
    "outputId": "a8adc4e3-c597-4c46-f89e-22095344a0ee"
   },
   "outputs": [],
   "source": [
    "# Print classification report\n",
    "print(classification_report(y_true, y_pred, target_names=class_names))"
   ]
  },
  {
   "cell_type": "markdown",
   "metadata": {
    "id": "yWIwI0h4Mq4U"
   },
   "source": [
    "### ROC Curve and AUC\n",
    "The ROC curve measures the trade-off between sensitivity (true positive rate) and specificity (1 - false positive rate). AUC indicates overall class separability (higher values = better model, 1 is perfect, 0.5 is random guessing). For imbalanced datasets, AUC gives more insight compared to accuracy alone.\n",
    "\n",
    "ROC and AUC are commonly used for binary classification (deciding between two classes), they also work in multi-class settings by evaluating each class separately. In our case, since we have multiple classes, we calculate a separate ROC curve and AUC score for each one. This helps us pinpoint which specific classes the model is struggling with:"
   ]
  },
  {
   "cell_type": "code",
   "execution_count": null,
   "metadata": {
    "colab": {
     "base_uri": "https://localhost:8080/",
     "height": 1000
    },
    "executionInfo": {
     "elapsed": 33287,
     "status": "ok",
     "timestamp": 1742824064537,
     "user": {
      "displayName": "Martyn Harris",
      "userId": "17134958627456907188"
     },
     "user_tz": 0
    },
    "id": "JbGMPADUY4cM",
    "outputId": "f1e8e437-7955-4dd4-a7a1-dcaeddf074df"
   },
   "outputs": [],
   "source": [
    "import numpy as np                      # For working with arrays\n",
    "import matplotlib.pyplot as plt         # For plotting graphs\n",
    "from sklearn.metrics import roc_curve, auc            # ROC curve and AUC calculation\n",
    "from sklearn.preprocessing import label_binarize      # Convert labels to one-hot encoded format\n",
    "from itertools import cycle             # For cycling through colours in plots\n",
    "\n",
    "# Prepare empty lists for true labels and predicted probabilities\n",
    "y_true = []\n",
    "y_pred_probs = []\n",
    "\n",
    "# Loop through the test dataset to collect model predictions and actual labels\n",
    "for images, labels in test_dataset:\n",
    "    preds = model.predict(images)          # Get predicted probabilities for each class\n",
    "    y_pred_probs.extend(preds)             # Add predicted probabilities to list\n",
    "    y_true.extend(labels.numpy())          # Convert labels to NumPy arrays and add to list\n",
    "\n",
    "# Convert collected data to NumPy arrays\n",
    "y_true = np.array(y_true)\n",
    "y_pred_probs = np.array(y_pred_probs)\n",
    "\n",
    "# Convert true labels to one-hot encoding (required for ROC computation in multi-class)\n",
    "num_classes = 10\n",
    "y_true_bin = label_binarize(y_true, classes=range(num_classes))\n",
    "\n",
    "# Initialise dictionaries to hold false positive rates, true positive rates, and AUCs\n",
    "fpr = dict()\n",
    "tpr = dict()\n",
    "roc_auc = dict()\n",
    "\n",
    "# Compute ROC curve and AUC for each class\n",
    "for i in range(num_classes):\n",
    "    fpr[i], tpr[i], _ = roc_curve(y_true_bin[:, i], y_pred_probs[:, i])  # ROC points\n",
    "    roc_auc[i] = auc(fpr[i], tpr[i])  # Area Under Curve for each class\n",
    "\n",
    "# Set up the plot\n",
    "plt.figure(figsize=(10, 8))\n",
    "\n",
    "# Cycle through a list of colours for each curve\n",
    "colours = cycle(['blue', 'red', 'green', 'purple', 'orange', \n",
    "                 'cyan', 'magenta', 'brown', 'olive', 'gray'])\n",
    "\n",
    "# List of class names corresponding to each class index\n",
    "class_names = ['AnnualCrop', 'Forest', 'HerbaceousVegetation', 'Highway',\n",
    "               'Industrial', 'Pasture', 'PermanentCrop', 'Residential',\n",
    "               'River', 'SeaLake']\n",
    "\n",
    "# Plot each class’s ROC curve with its AUC value\n",
    "for i, colour in zip(range(num_classes), colours):\n",
    "    plt.plot(fpr[i], tpr[i], color=colour, \n",
    "             label=f'{class_names[i]} (AUC = {roc_auc[i]:.2f})')\n",
    "\n",
    "# Plot a dashed diagonal line to represent random chance (baseline)\n",
    "plt.plot([0, 1], [0, 1], 'k--', label='Random (AUC = 0.5)')\n",
    "\n",
    "# Add axis labels and title\n",
    "plt.xlabel('False Positive rate')\n",
    "plt.ylabel('True Positive rate')\n",
    "plt.title('Multi-class ROC curve for EuroSAT dataset')\n",
    "\n",
    "# Show legend and grid\n",
    "plt.legend(loc='lower right')\n",
    "plt.grid(True)\n"
   ]
  },
  {
   "cell_type": "markdown",
   "metadata": {
    "id": "fgP-RTnhM6cU"
   },
   "source": [
    "### Confusion Matrix\n",
    "We can generate a confusion matrix to compare the performance for each class. This provides insight into specific areas where the neural network might struggle, by inspecting the particular classes:"
   ]
  },
  {
   "cell_type": "code",
   "execution_count": null,
   "metadata": {
    "colab": {
     "base_uri": "https://localhost:8080/",
     "height": 802
    },
    "executionInfo": {
     "elapsed": 527,
     "status": "ok",
     "timestamp": 1742824065066,
     "user": {
      "displayName": "Martyn Harris",
      "userId": "17134958627456907188"
     },
     "user_tz": 0
    },
    "id": "kzGwKPCyM6mk",
    "outputId": "1f572592-93bb-41ef-c93a-834fe7adf203"
   },
   "outputs": [],
   "source": [
    "# Confusion matrix\n",
    "cm = confusion_matrix(y_true, y_pred)\n",
    "plt.figure(figsize=(10, 7))\n",
    "\n",
    "sns.heatmap(cm, annot=True, fmt=\"d\", cmap=\"Blues\", xticklabels=class_names, yticklabels=class_names)\n",
    "\n",
    "plt.xlabel(\"Predicted\")\n",
    "plt.ylabel(\"Actual\")\n",
    "\n",
    "plt.title(\"Confusion Matrix\")"
   ]
  },
  {
   "cell_type": "markdown",
   "metadata": {
    "id": "aWwuI36bMewr"
   },
   "source": [
    "### Loss Function\n",
    "After training the model, we can look at the following data to see how well the learning process went:\n",
    "\n",
    "- `history.history['loss']`: This shows how much error the model made on the *training set* (the data it learnt from) after each round of learning, called an *epoch*.  \n",
    "- `history.history['val_loss']`: This shows the error on the *validation set* based on separate data the model hasn't seen before, used to test how well it's generalising during training.\n",
    "\n",
    "Ideally, both the training and validation losses should go down over time indicating that the model is improving and learning useful patterns.\n",
    "\n",
    "However, if the *validation loss* starts to go up while the *training loss* keeps going down, it might mean the model is *overfitting*. In other words, the model is memorising the training data too well and struggling to perform well on new, unseen data:"
   ]
  },
  {
   "cell_type": "code",
   "execution_count": null,
   "metadata": {
    "colab": {
     "base_uri": "https://localhost:8080/",
     "height": 487
    },
    "executionInfo": {
     "elapsed": 200,
     "status": "ok",
     "timestamp": 1742824065268,
     "user": {
      "displayName": "Martyn Harris",
      "userId": "17134958627456907188"
     },
     "user_tz": 0
    },
    "id": "FTO3cAw5Mfnk",
    "outputId": "07d3658f-3396-4a7d-8b6e-dd0dcce9bd7a"
   },
   "outputs": [],
   "source": [
    "import matplotlib.pyplot as plt\n",
    "\n",
    "# Plot the training and validation loss\n",
    "plt.figure(figsize=(10, 4))\n",
    "\n",
    "plt.plot(history.history['loss'], label='Training Loss')\n",
    "plt.plot(history.history['val_loss'], label='Validation Loss')\n",
    "\n",
    "plt.title('Training and Validation loss')\n",
    "\n",
    "plt.xlabel('Epoch')\n",
    "plt.ylabel('Loss')\n",
    "\n",
    "plt.legend()\n",
    "\n",
    "plt.grid(True)\n"
   ]
  },
  {
   "cell_type": "markdown",
   "metadata": {
    "id": "LhzChvxXl2Wm"
   },
   "source": [
    "## Evaluating machine learning regression models\n",
    "Regression models are machine learning or statistical models used to predict numeric or continuous outcomes, such as house prices, temperatures, or sales figures, based on input data. They identify patterns and relationships between independent variables (inputs) and a dependent variable (output).\n",
    "\n",
    "Evaluating regression models, involves different metrics compared to classification tasks because we're predicting numeric values rather than discrete classes.\n",
    "\n",
    "Common evaluation metrics for continuous models include:\n",
    "\n",
    "- *Mean Absolute Error (MAE)*:  \n",
    "  Measures the average absolute difference between predicted values and true values. It's intuitive and easy to interpret, indicating how far predictions typically deviate from actual observations.\n",
    "\n",
    "- *Mean Squared Error (MSE)*:  \n",
    "  Calculates the average of squared differences between predicted and actual values. Squaring errors gives more weight to larger errors, making it sensitive to significant deviations.\n",
    "\n",
    "- *Root Mean Squared Error (RMSE)*:  \n",
    "  The square root of MSE, bringing the metric back to the original units of measurement. It's widely used due to interpretability in the same units as the target variable.\n",
    "\n",
    "- *R-squared (Coefficient of Determination)*:  \n",
    "  Indicates how well the model explains the variability of the data. An R-squared closer to 1 means the model fits the data well; closer to 0 suggests the model doesn't explain the variability effectively.\n",
    "\n",
    "When evaluating regression models, it's often beneficial to use multiple metrics simultaneously, as each metric provides a different insight into model performance. For example, RMSE and R-squared are commonly used together: RMSE gives an intuitive understanding of error magnitude, while R-squared provides insight into the explanatory power of the model.\n",
    "\n",
    "We will cover each one in more detail below."
   ]
  },
  {
   "cell_type": "markdown",
   "metadata": {
    "id": "stAGDW03wxqy"
   },
   "source": [
    "### Loading the data\n",
    "\n",
    "The *Diabetes* dataset is a classic medical dataset provided by the `scikit-learn` library. It consists of real-world clinical data collected from diabetes patients, and is primarily used to *predict disease progression over time* based on a variety of physiological and health-related factors.\n",
    "\n",
    "Each entry in the dataset corresponds to a single patient and includes *10 numerical features* such as age, sex, body mass index (BMI), average blood pressure, and various blood serum measurements. These features are continuous and have been *standardised* (mean zero, unit variance), which makes the dataset ready for many regression algorithms without additional preprocessing.\n",
    "\n",
    "The *target variable* is a quantitative measure of diabetes disease progression one year after baseline. It is a *continuous numeric value*, making this dataset well-suited for *regression tasks* rather than classification.\n",
    "\n",
    "The dataset includes *442 instances* and has *no missing values*, which makes it ideal for demonstrating regression models.\n",
    "\n",
    "Because of its manageable size and medical context, the Diabetes dataset is frequently used to illustrate core concepts in *regression*, and *model evaluation* (e.g. RMSE, MAE, R²):"
   ]
  },
  {
   "cell_type": "code",
   "execution_count": null,
   "metadata": {
    "colab": {
     "base_uri": "https://localhost:8080/"
    },
    "executionInfo": {
     "elapsed": 233,
     "status": "ok",
     "timestamp": 1742824065500,
     "user": {
      "displayName": "Martyn Harris",
      "userId": "17134958627456907188"
     },
     "user_tz": 0
    },
    "id": "41gD51AGw0mq",
    "outputId": "51034614-1349-4406-f1ae-6877dee8e7a7"
   },
   "outputs": [],
   "source": [
    "import pandas as pd\n",
    "from sklearn.datasets import load_diabetes\n",
    "\n",
    "# Load and convert to DataFrame\n",
    "diabetes = load_diabetes()\n",
    "\n",
    "df = pd.DataFrame(diabetes.data, columns=diabetes.feature_names)\n",
    "\n",
    "df['target'] = diabetes.target\n",
    "\n",
    "# Display first few rows\n",
    "df.head()\n"
   ]
  },
  {
   "cell_type": "markdown",
   "metadata": {
    "id": "xiMQPPP01PnC"
   },
   "source": [
    "## Train and test sets\n",
    "We now organise our data into train and test sets as usual, then discuss the measures we will implement:"
   ]
  },
  {
   "cell_type": "code",
   "execution_count": null,
   "metadata": {
    "colab": {
     "base_uri": "https://localhost:8080/"
    },
    "executionInfo": {
     "elapsed": 38,
     "status": "ok",
     "timestamp": 1742824065539,
     "user": {
      "displayName": "Martyn Harris",
      "userId": "17134958627456907188"
     },
     "user_tz": 0
    },
    "id": "Jg6iqHpSw6OJ",
    "outputId": "2e7a4b06-77a6-4c82-cb3f-60d9d5753f17"
   },
   "outputs": [],
   "source": [
    "from sklearn.model_selection import train_test_split\n",
    "from sklearn.preprocessing import StandardScaler\n",
    "\n",
    "# Define features (X) and target (y)\n",
    "X = df.drop(columns=[\"target\"])  # Feature variables\n",
    "Y = df[\"target\"]  # Target variable\n",
    "\n",
    "seed = 7\n",
    "\n",
    "# Split into training (80%) and testing (20%) sets\n",
    "X_train, X_test, y_train, y_test = train_test_split(X, Y, test_size=0.2, random_state=seed)\n",
    "\n",
    "# Standardise the feature values (important for models like SVM & KNN)\n",
    "scaler = StandardScaler()\n",
    "X_train = scaler.fit_transform(X_train)\n",
    "X_test = scaler.transform(X_test)\n",
    "\n",
    "print(f\"Train size: {X_train.shape}, Test size: {X_test.shape}\")"
   ]
  },
  {
   "cell_type": "markdown",
   "metadata": {
    "id": "m9vP9EKsMKHb"
   },
   "source": [
    "### MAE\n",
    "Mean Absolute Error (MAE) offers a straightforward average of errors without exaggerating outliers. MAE is a simple but powerful way to measure how accurate predictions from a model or forecast are compared to actual observed values. Imagine you're trying to guess how many candies are in several jars, and each guess might be a bit off. MAE is the average of how far off all your guesses were, regardless of whether you guessed too high or too low.\n",
    "\n",
    "Specifically, MAE takes the absolute difference between predicted values and the actual values—this means it doesn't matter whether your predictions were higher or lower; only the size of the errors matters. It then averages these differences to provide a single number that clearly represents the typical prediction error you can expect from your model.\n",
    "\n",
    "People often use MAE because it’s straightforward and intuitive—easy to understand even without a technical background. For example, if you're predicting house prices, an MAE of 10,000 would mean your predictions are typically off by about \\$10,000, giving you a clear, practical sense of the accuracy and reliability of your predictions."
   ]
  },
  {
   "cell_type": "markdown",
   "metadata": {
    "id": "HAgbgRrlMFuE"
   },
   "source": [
    "### MSE\n",
    "\n",
    "Mean Squared Error (MSE) highlights significant prediction errors, penalising large deviations heavily. MSE is a common way of measuring how accurate predictions are, especially in scenarios where larger mistakes are particularly important. Imagine you're throwing darts at a dartboard, and each dart represents your prediction. MSE doesn't just measure how far off each dart is from the bullseye—it actually squares that distance. This means that predictions which miss by a lot are heavily penalized compared to smaller errors.\n",
    "\n",
    "To calculate MSE, you take each prediction error (the difference between your prediction and the real value), square it (which makes every error positive and exaggerates big mistakes), and then average all those squared errors. Squaring the errors helps highlight predictions that are significantly wrong, ensuring models that make big mistakes appear clearly worse.\n",
    "\n",
    "Because of this approach, MSE is especially useful in situations where large errors can have big consequences. For example, in predicting house prices, a prediction that's off by $100,000 would have an enormous impact compared to predictions off by just a few thousand dollars. When using MSE, you ensure that the final measure emphasises and discourages these large mistakes, helping you build a more reliable and accurate predictive model."
   ]
  },
  {
   "cell_type": "markdown",
   "metadata": {
    "id": "Rk5bHbsYQLm8"
   },
   "source": [
    "### Root Mean Squared Error (RMSE)\n",
    "Root Mean Squared Error (RMSE) is a popular way to measure how accurate predictions are—think of it as a \"typical size\" of the prediction mistakes a model makes. To understand RMSE, imagine you're predicting how long it takes to drive home from work. Sometimes you underestimate by a few minutes; other times, traffic makes you underestimate by a lot more. RMSE helps summarize these errors into one clear number.\n",
    "\n",
    "RMSE is the square root of MSE, easier to interpret in terms of original units of measurement. To calculate RMSE, first, you find the difference between each prediction and the real observed value, and then square each of those differences. Next, you take the average (mean) of all these squared errors. Finally—and importantly—you take the square root of that average. The result gives you an error measure that's on the same scale as your original data, making it intuitive and easy to understand.\n",
    "\n",
    "RMSE is valuable because it highlights larger errors (due to squaring earlier in the calculation) but returns to the original units (like minutes, dollars, or miles) thanks to taking the square root at the end. For example, an RMSE of 5 minutes in your commuting prediction model tells you that typically, your predictions are off by around 5 minutes, providing a simple way to judge the accuracy of your predictions at a glance."
   ]
  },
  {
   "cell_type": "markdown",
   "metadata": {
    "id": "Xz4xAo-vQWms"
   },
   "source": [
    "### R² Score\n",
    "The *R² Score*, also known as the *coefficient of determination*, is a popular measure used to indicate how well predictions made by a statistical model match the actual observed data. Think of it as a percentage score, telling you how much of the variability in the data your model successfully explains.\n",
    "\n",
    "Specifically, an R² value ranges from 0 to 1. A score of 1 means your model perfectly predicts every single observation—it's as if you had accurately guessed the exact height of everyone in a room. A score of 0, however, indicates your model performs no better than simply using the average of the data as your prediction, similar to guessing everyone’s height is the same, average height. It’s also possible to have negative R² values, meaning your model is actually doing worse than just guessing the average.\n",
    "\n",
    "Because it's expressed as a percentage-like measure, R² is very intuitive. For example, if a house-price prediction model has an R² score of 0.8, this means that 80% of the variability in house prices can be explained by the model, while the remaining 20% is due to factors the model doesn't account for. This makes R² a useful and easily understandable way to judge the effectiveness of predictive models."
   ]
  },
  {
   "cell_type": "markdown",
   "metadata": {
    "id": "7WG2moTL3A16"
   },
   "source": [
    "The code below, builds, trains, and evaluates the model. We start by defining a function `build_nn()` that constructs a simple feedforward neural network with three hidden layers containing 64, 32, and 16 neurons respectively, all using the ReLU activation function.\n",
    "\n",
    "The output layer has a single neuron, as the task is to predict a continuous numerical value (regression). The model is compiled using the Adam optimiser and with the mean squared error (MSE) as the loss function, with mean absolute error (MAE) included as an additional performance metric for us to inspect later.\n",
    "\n",
    "The model is trained on the training data for 50 epochs using a batch size of 16. We reserve 20% of the training data for validation during training. After training is complete, we predict outcomes on the test set, and the predictions are flattened into a one-dimensional array.\n"
   ]
  },
  {
   "cell_type": "code",
   "execution_count": null,
   "metadata": {
    "colab": {
     "base_uri": "https://localhost:8080/"
    },
    "executionInfo": {
     "elapsed": 14584,
     "status": "ok",
     "timestamp": 1742824080852,
     "user": {
      "displayName": "Martyn Harris",
      "userId": "17134958627456907188"
     },
     "user_tz": 0
    },
    "id": "qRF9AdQ73FuC",
    "outputId": "32fb1057-47e2-4f47-db3b-a692bec4f4ad"
   },
   "outputs": [],
   "source": [
    "import tensorflow as tf\n",
    "from tensorflow import keras\n",
    "from tensorflow.keras import layers\n",
    "from sklearn.metrics import mean_absolute_error, mean_squared_error, r2_score\n",
    "import numpy as np\n",
    "import matplotlib.pyplot as plt\n",
    "\n",
    "# Define Neural Network model\n",
    "def build_nn():\n",
    "    model = keras.Sequential([\n",
    "        layers.Dense(64, activation=\"relu\", input_shape=(X_train.shape[1],)),\n",
    "        layers.Dense(32, activation=\"relu\"),\n",
    "        layers.Dense(16, activation=\"relu\"),\n",
    "        layers.Dense(1)  # Single output neuron for regression\n",
    "    ])\n",
    "\n",
    "    # Compile the model\n",
    "    model.compile(optimizer=\"adam\", loss=\"mse\", metrics=[\"mae\"])\n",
    "    return model\n",
    "\n",
    "# Build the model\n",
    "nn_model = build_nn()\n",
    "\n",
    "# Train the model and store training history\n",
    "history = nn_model.fit(\n",
    "    X_train, y_train,\n",
    "    epochs=50,\n",
    "    batch_size=16,\n",
    "    validation_split=0.2,\n",
    "    verbose=1\n",
    ")"
   ]
  },
  {
   "cell_type": "markdown",
   "metadata": {
    "id": "kXa3tf5LLPaE"
   },
   "source": [
    "The model’s performance is evaluated using the metrics we have discussed, including MAE, MSE, Root Mean Squared Error (RMSE), and the R² Score. We print these results to the console to see how accurately the neural network is making predictions compared to the actual test data:"
   ]
  },
  {
   "cell_type": "code",
   "execution_count": null,
   "metadata": {
    "colab": {
     "base_uri": "https://localhost:8080/"
    },
    "executionInfo": {
     "elapsed": 219,
     "status": "ok",
     "timestamp": 1742824081073,
     "user": {
      "displayName": "Martyn Harris",
      "userId": "17134958627456907188"
     },
     "user_tz": 0
    },
    "id": "4P9b-GHMLXvS",
    "outputId": "e8831b5c-1c4d-432e-ce4e-f13ef8eecb61"
   },
   "outputs": [],
   "source": [
    "# Make predictions\n",
    "y_pred = nn_model.predict(X_test).flatten()\n",
    "\n",
    "# Calculate evaluation metrics\n",
    "mae = mean_absolute_error(y_test, y_pred)\n",
    "mse = mean_squared_error(y_test, y_pred)\n",
    "rmse = np.sqrt(mse)\n",
    "r2 = r2_score(y_test, y_pred)\n",
    "\n",
    "# Print evaluation results\n",
    "print(f\"\\nNeural Network Regression Evaluation:\")\n",
    "print(f\"Mean Absolute Error (MAE): {mae:.4f}\")\n",
    "print(f\"Mean Squared Error (MSE): {mse:.4f}\")\n",
    "print(f\"Root Mean Squared Error (RMSE): {rmse:.4f}\")\n",
    "print(f\"R² Score: {r2:.4f}\")"
   ]
  },
  {
   "cell_type": "markdown",
   "metadata": {
    "id": "JvlXbCfyLcQ-"
   },
   "source": [
    "Let's plot the training and validation loss over the epochs. If our model is healthy model we will see both training and validation loss go down together and stay low, which means the model is learning useful patterns and generalising well.\n",
    "\n",
    "We can also spot any overfitting. If the training loss goes down and stays low, and validation loss starts to go up after some point it means the model is memorising the training data and struggling to generalise to new data.\n",
    "\n",
    "If both training and validation loss stay high, then we have the reverse problem of underfitting. Here the model is too simple or hasn't trained long enough to capture patterns in the data.\n",
    "\n",
    "Looking at the plot will enable us to decide whether or not it would be appropriate to stop training at a given epoch (e.g. early stopping when validation loss starts to rise)."
   ]
  },
  {
   "cell_type": "code",
   "execution_count": null,
   "metadata": {
    "colab": {
     "base_uri": "https://localhost:8080/",
     "height": 494
    },
    "executionInfo": {
     "elapsed": 492,
     "status": "ok",
     "timestamp": 1742824081568,
     "user": {
      "displayName": "Martyn Harris",
      "userId": "17134958627456907188"
     },
     "user_tz": 0
    },
    "id": "VjEJYpT9LIfR",
    "outputId": "56ee6c08-196f-4df9-b5ae-1d002f751ab6"
   },
   "outputs": [],
   "source": [
    "# Plot training and validation loss\n",
    "plt.figure(figsize=(10, 4))\n",
    "\n",
    "# Plot loss\n",
    "plt.subplot(1, 2, 1)\n",
    "plt.plot(history.history['loss'], label='Training Loss')\n",
    "plt.plot(history.history['val_loss'], label='Validation Loss')\n",
    "\n",
    "plt.title('Loss per Epoch')\n",
    "\n",
    "plt.xlabel('Epoch')\n",
    "plt.ylabel('Mean Squared Error (MSE)')\n",
    "\n",
    "plt.legend()\n",
    "plt.grid(True)\n",
    "\n",
    "# Plot MAE\n",
    "plt.subplot(1, 2, 2)\n",
    "plt.plot(history.history['mae'], label='Training MAE')\n",
    "plt.plot(history.history['val_mae'], label='Validation MAE')\n",
    "\n",
    "plt.title('MAE per Epoch')\n",
    "plt.xlabel('Epoch')\n",
    "plt.ylabel('Mean Absolute Error (MAE)')\n",
    "\n",
    "plt.legend()\n",
    "plt.grid(True)\n",
    "\n",
    "plt.tight_layout()"
   ]
  },
  {
   "cell_type": "markdown",
   "metadata": {
    "id": "sR_9ga4UQegj"
   },
   "source": [
    "### What have we learnt?\n",
    "\n",
    "For classification tasks, accuracy works best when your classes are balanced and errors carry equal importance. However, in scenarios where classes are imbalanced or the cost of mistakes differs significantly—such as detecting fraud or diagnosing diseases—it’s preferable to rely on precision, recall, or the F1 score to evaluate your model. Always examine the confusion matrix as well, since it provides clear insight into exactly how your model is making correct and incorrect predictions.\n",
    "\n",
    "For regression tasks, the R² score helps you understand how much of the variability in your data is explained by your model. Mean Absolute Error (MAE) is a robust measure that's less sensitive to outliers, making it suitable for general predictions like house prices or temperature forecasts. Conversely, Mean Squared Error (MSE) or Root Mean Squared Error (RMSE) heavily penalise larger mistakes, making them ideal choices when significant errors have substantial consequences, such as forecasting electricity demand or stock prices.\n",
    "\n",
    "To help you, here is a table summarising these metrics that you can refer to when considering which methods to apply to your projects:\n",
    "\n",
    "| Metric           | Type           | Emphasis                        | Outliers/Imbalance? | Example Models                          | Data & Examples                         |\n",
    "|------------------|----------------|---------------------------------|---------------------|-----------------------------------------|-----------------------------------------|\n",
    "| Accuracy         | Classification | Overall correctness             | Yes                 | LogReg, Dec. Trees, RF, SVM, NN         | Spam, disease detection                 |\n",
    "| Precision        | Classification | Correct positive predictions    | Yes                 | LogReg, Dec. Trees, RF, SVM, NN         | Fraud detection, diagnosis              |\n",
    "| Recall           | Classification | Capturing all positives         | Yes                 | LogReg, Dec. Trees, RF, NN              | Cancer, anomaly detection               |\n",
    "| F1 Score         | Classification | Balance Precision/Recall        | Yes                 | LogReg, Dec. Trees, RF, SVM, NN         | Rare diseases, fraud                    |\n",
    "| Confusion Matrix | Classification | Breakdown of results            | Clearly shows errors| All classifiers                         | Medical tests, face recognition         |\n",
    "| MAE              | Regression     | Equal penalty for errors        | No                  | Linear Reg, RF, Dec. Trees, NN          | House prices, temp. forecasts           |\n",
    "| MSE/RMSE         | Regression     | Penalises large errors          | Yes                 | Linear Reg, Gradient Boost, RF, NN      | Stock prices, electricity demand        |\n",
    "| R² Score         | Regression     | Variability explained by model  | Moderate            | Linear/Poly Reg, RF, NN                 | Crop yields, consumer spending          |\n"
   ]
  },
  {
   "cell_type": "markdown",
   "metadata": {
    "id": "VJQrd_W_Qnns"
   },
   "source": [
    "Finally, carefully interpret your metrics within the context of your application—no single metric tells the entire story."
   ]
  }
 ],
 "metadata": {
  "colab": {
   "provenance": []
  },
  "kernelspec": {
   "display_name": "Python 3",
   "language": "python",
   "name": "python3"
  },
  "language_info": {
   "codemirror_mode": {
    "name": "ipython",
    "version": 3
   },
   "file_extension": ".py",
   "mimetype": "text/x-python",
   "name": "python",
   "nbconvert_exporter": "python",
   "pygments_lexer": "ipython3",
   "version": "3.12.7"
  },
  "widgets": {
   "application/vnd.jupyter.widget-state+json": {
    "00ad264d0f8d4d6ea4e5219d833d673a": {
     "model_module": "@jupyter-widgets/controls",
     "model_module_version": "1.5.0",
     "model_name": "HTMLModel",
     "state": {
      "_dom_classes": [],
      "_model_module": "@jupyter-widgets/controls",
      "_model_module_version": "1.5.0",
      "_model_name": "HTMLModel",
      "_view_count": null,
      "_view_module": "@jupyter-widgets/controls",
      "_view_module_version": "1.5.0",
      "_view_name": "HTMLView",
      "description": "",
      "description_tooltip": null,
      "layout": "IPY_MODEL_d0425649b0cf45ed8714d3d59fa8062e",
      "placeholder": "​",
      "style": "IPY_MODEL_c4e50d36831e43f2a846bf3b02122e8f",
      "value": "Shuffling /root/tensorflow_datasets/eurosat/rgb/incomplete.Y1Q6WS_2.0.0/eurosat-train.tfrecord*...:   0%"
     }
    },
    "12d89e5277c7455281e6708c950e494d": {
     "model_module": "@jupyter-widgets/base",
     "model_module_version": "1.2.0",
     "model_name": "LayoutModel",
     "state": {
      "_model_module": "@jupyter-widgets/base",
      "_model_module_version": "1.2.0",
      "_model_name": "LayoutModel",
      "_view_count": null,
      "_view_module": "@jupyter-widgets/base",
      "_view_module_version": "1.2.0",
      "_view_name": "LayoutView",
      "align_content": null,
      "align_items": null,
      "align_self": null,
      "border": null,
      "bottom": null,
      "display": null,
      "flex": null,
      "flex_flow": null,
      "grid_area": null,
      "grid_auto_columns": null,
      "grid_auto_flow": null,
      "grid_auto_rows": null,
      "grid_column": null,
      "grid_gap": null,
      "grid_row": null,
      "grid_template_areas": null,
      "grid_template_columns": null,
      "grid_template_rows": null,
      "height": null,
      "justify_content": null,
      "justify_items": null,
      "left": null,
      "margin": null,
      "max_height": null,
      "max_width": null,
      "min_height": null,
      "min_width": null,
      "object_fit": null,
      "object_position": null,
      "order": null,
      "overflow": null,
      "overflow_x": null,
      "overflow_y": null,
      "padding": null,
      "right": null,
      "top": null,
      "visibility": null,
      "width": "20px"
     }
    },
    "165fba41714b4c72ac29080f67e54c8e": {
     "model_module": "@jupyter-widgets/base",
     "model_module_version": "1.2.0",
     "model_name": "LayoutModel",
     "state": {
      "_model_module": "@jupyter-widgets/base",
      "_model_module_version": "1.2.0",
      "_model_name": "LayoutModel",
      "_view_count": null,
      "_view_module": "@jupyter-widgets/base",
      "_view_module_version": "1.2.0",
      "_view_name": "LayoutView",
      "align_content": null,
      "align_items": null,
      "align_self": null,
      "border": null,
      "bottom": null,
      "display": null,
      "flex": null,
      "flex_flow": null,
      "grid_area": null,
      "grid_auto_columns": null,
      "grid_auto_flow": null,
      "grid_auto_rows": null,
      "grid_column": null,
      "grid_gap": null,
      "grid_row": null,
      "grid_template_areas": null,
      "grid_template_columns": null,
      "grid_template_rows": null,
      "height": null,
      "justify_content": null,
      "justify_items": null,
      "left": null,
      "margin": null,
      "max_height": null,
      "max_width": null,
      "min_height": null,
      "min_width": null,
      "object_fit": null,
      "object_position": null,
      "order": null,
      "overflow": null,
      "overflow_x": null,
      "overflow_y": null,
      "padding": null,
      "right": null,
      "top": null,
      "visibility": null,
      "width": null
     }
    },
    "16a736ad4af44e2880d96fa2f3f6d36f": {
     "model_module": "@jupyter-widgets/controls",
     "model_module_version": "1.5.0",
     "model_name": "DescriptionStyleModel",
     "state": {
      "_model_module": "@jupyter-widgets/controls",
      "_model_module_version": "1.5.0",
      "_model_name": "DescriptionStyleModel",
      "_view_count": null,
      "_view_module": "@jupyter-widgets/base",
      "_view_module_version": "1.2.0",
      "_view_name": "StyleView",
      "description_width": ""
     }
    },
    "1899f375028243ae9daa3caae27fdc37": {
     "model_module": "@jupyter-widgets/controls",
     "model_module_version": "1.5.0",
     "model_name": "ProgressStyleModel",
     "state": {
      "_model_module": "@jupyter-widgets/controls",
      "_model_module_version": "1.5.0",
      "_model_name": "ProgressStyleModel",
      "_view_count": null,
      "_view_module": "@jupyter-widgets/base",
      "_view_module_version": "1.2.0",
      "_view_name": "StyleView",
      "bar_color": null,
      "description_width": ""
     }
    },
    "1b5f927600804fc4a15c858a54a5d1c9": {
     "model_module": "@jupyter-widgets/base",
     "model_module_version": "1.2.0",
     "model_name": "LayoutModel",
     "state": {
      "_model_module": "@jupyter-widgets/base",
      "_model_module_version": "1.2.0",
      "_model_name": "LayoutModel",
      "_view_count": null,
      "_view_module": "@jupyter-widgets/base",
      "_view_module_version": "1.2.0",
      "_view_name": "LayoutView",
      "align_content": null,
      "align_items": null,
      "align_self": null,
      "border": null,
      "bottom": null,
      "display": null,
      "flex": null,
      "flex_flow": null,
      "grid_area": null,
      "grid_auto_columns": null,
      "grid_auto_flow": null,
      "grid_auto_rows": null,
      "grid_column": null,
      "grid_gap": null,
      "grid_row": null,
      "grid_template_areas": null,
      "grid_template_columns": null,
      "grid_template_rows": null,
      "height": null,
      "justify_content": null,
      "justify_items": null,
      "left": null,
      "margin": null,
      "max_height": null,
      "max_width": null,
      "min_height": null,
      "min_width": null,
      "object_fit": null,
      "object_position": null,
      "order": null,
      "overflow": null,
      "overflow_x": null,
      "overflow_y": null,
      "padding": null,
      "right": null,
      "top": null,
      "visibility": null,
      "width": null
     }
    },
    "1e246ce351534c0d94e531358aa1c21a": {
     "model_module": "@jupyter-widgets/base",
     "model_module_version": "1.2.0",
     "model_name": "LayoutModel",
     "state": {
      "_model_module": "@jupyter-widgets/base",
      "_model_module_version": "1.2.0",
      "_model_name": "LayoutModel",
      "_view_count": null,
      "_view_module": "@jupyter-widgets/base",
      "_view_module_version": "1.2.0",
      "_view_name": "LayoutView",
      "align_content": null,
      "align_items": null,
      "align_self": null,
      "border": null,
      "bottom": null,
      "display": null,
      "flex": null,
      "flex_flow": null,
      "grid_area": null,
      "grid_auto_columns": null,
      "grid_auto_flow": null,
      "grid_auto_rows": null,
      "grid_column": null,
      "grid_gap": null,
      "grid_row": null,
      "grid_template_areas": null,
      "grid_template_columns": null,
      "grid_template_rows": null,
      "height": null,
      "justify_content": null,
      "justify_items": null,
      "left": null,
      "margin": null,
      "max_height": null,
      "max_width": null,
      "min_height": null,
      "min_width": null,
      "object_fit": null,
      "object_position": null,
      "order": null,
      "overflow": null,
      "overflow_x": null,
      "overflow_y": null,
      "padding": null,
      "right": null,
      "top": null,
      "visibility": null,
      "width": null
     }
    },
    "24664b39552d4e81bd754f68d7867755": {
     "model_module": "@jupyter-widgets/controls",
     "model_module_version": "1.5.0",
     "model_name": "HTMLModel",
     "state": {
      "_dom_classes": [],
      "_model_module": "@jupyter-widgets/controls",
      "_model_module_version": "1.5.0",
      "_model_name": "HTMLModel",
      "_view_count": null,
      "_view_module": "@jupyter-widgets/controls",
      "_view_module_version": "1.5.0",
      "_view_name": "HTMLView",
      "description": "",
      "description_tooltip": null,
      "layout": "IPY_MODEL_1b5f927600804fc4a15c858a54a5d1c9",
      "placeholder": "​",
      "style": "IPY_MODEL_884e6a5aa18e4c1590cd289f9c5b530e",
      "value": " 26646/? [00:13&lt;00:00, 1834.56 examples/s]"
     }
    },
    "251a1a5c09ee41df8238224bb50c7a24": {
     "model_module": "@jupyter-widgets/controls",
     "model_module_version": "1.5.0",
     "model_name": "HTMLModel",
     "state": {
      "_dom_classes": [],
      "_model_module": "@jupyter-widgets/controls",
      "_model_module_version": "1.5.0",
      "_model_name": "HTMLModel",
      "_view_count": null,
      "_view_module": "@jupyter-widgets/controls",
      "_view_module_version": "1.5.0",
      "_view_name": "HTMLView",
      "description": "",
      "description_tooltip": null,
      "layout": "IPY_MODEL_c997faab86114b0d8285bb1ff9eb0745",
      "placeholder": "​",
      "style": "IPY_MODEL_bd304e7cd06c407f802479380a11c6ae",
      "value": "Generating splits...: 100%"
     }
    },
    "31d4b47de6cf4f9b810a141fbaf7f493": {
     "model_module": "@jupyter-widgets/controls",
     "model_module_version": "1.5.0",
     "model_name": "FloatProgressModel",
     "state": {
      "_dom_classes": [],
      "_model_module": "@jupyter-widgets/controls",
      "_model_module_version": "1.5.0",
      "_model_name": "FloatProgressModel",
      "_view_count": null,
      "_view_module": "@jupyter-widgets/controls",
      "_view_module_version": "1.5.0",
      "_view_name": "ProgressView",
      "bar_style": "success",
      "description": "",
      "description_tooltip": null,
      "layout": "IPY_MODEL_8d899b42a85e401cbb85e5b63c432bd0",
      "max": 1,
      "min": 0,
      "orientation": "horizontal",
      "style": "IPY_MODEL_1899f375028243ae9daa3caae27fdc37",
      "value": 1
     }
    },
    "32ea1f3568da4369af45078af4b0ba0e": {
     "model_module": "@jupyter-widgets/base",
     "model_module_version": "1.2.0",
     "model_name": "LayoutModel",
     "state": {
      "_model_module": "@jupyter-widgets/base",
      "_model_module_version": "1.2.0",
      "_model_name": "LayoutModel",
      "_view_count": null,
      "_view_module": "@jupyter-widgets/base",
      "_view_module_version": "1.2.0",
      "_view_name": "LayoutView",
      "align_content": null,
      "align_items": null,
      "align_self": null,
      "border": null,
      "bottom": null,
      "display": null,
      "flex": null,
      "flex_flow": null,
      "grid_area": null,
      "grid_auto_columns": null,
      "grid_auto_flow": null,
      "grid_auto_rows": null,
      "grid_column": null,
      "grid_gap": null,
      "grid_row": null,
      "grid_template_areas": null,
      "grid_template_columns": null,
      "grid_template_rows": null,
      "height": null,
      "justify_content": null,
      "justify_items": null,
      "left": null,
      "margin": null,
      "max_height": null,
      "max_width": null,
      "min_height": null,
      "min_width": null,
      "object_fit": null,
      "object_position": null,
      "order": null,
      "overflow": null,
      "overflow_x": null,
      "overflow_y": null,
      "padding": null,
      "right": null,
      "top": null,
      "visibility": null,
      "width": "20px"
     }
    },
    "334642e66cb140eba0f86db46d35c5b9": {
     "model_module": "@jupyter-widgets/base",
     "model_module_version": "1.2.0",
     "model_name": "LayoutModel",
     "state": {
      "_model_module": "@jupyter-widgets/base",
      "_model_module_version": "1.2.0",
      "_model_name": "LayoutModel",
      "_view_count": null,
      "_view_module": "@jupyter-widgets/base",
      "_view_module_version": "1.2.0",
      "_view_name": "LayoutView",
      "align_content": null,
      "align_items": null,
      "align_self": null,
      "border": null,
      "bottom": null,
      "display": null,
      "flex": null,
      "flex_flow": null,
      "grid_area": null,
      "grid_auto_columns": null,
      "grid_auto_flow": null,
      "grid_auto_rows": null,
      "grid_column": null,
      "grid_gap": null,
      "grid_row": null,
      "grid_template_areas": null,
      "grid_template_columns": null,
      "grid_template_rows": null,
      "height": null,
      "justify_content": null,
      "justify_items": null,
      "left": null,
      "margin": null,
      "max_height": null,
      "max_width": null,
      "min_height": null,
      "min_width": null,
      "object_fit": null,
      "object_position": null,
      "order": null,
      "overflow": null,
      "overflow_x": null,
      "overflow_y": null,
      "padding": null,
      "right": null,
      "top": null,
      "visibility": null,
      "width": null
     }
    },
    "33ab054e11f24639800a732fe7b418f1": {
     "model_module": "@jupyter-widgets/controls",
     "model_module_version": "1.5.0",
     "model_name": "ProgressStyleModel",
     "state": {
      "_model_module": "@jupyter-widgets/controls",
      "_model_module_version": "1.5.0",
      "_model_name": "ProgressStyleModel",
      "_view_count": null,
      "_view_module": "@jupyter-widgets/base",
      "_view_module_version": "1.2.0",
      "_view_name": "StyleView",
      "bar_color": null,
      "description_width": ""
     }
    },
    "3959907d7cbd45c8aef909bc00fe40db": {
     "model_module": "@jupyter-widgets/controls",
     "model_module_version": "1.5.0",
     "model_name": "DescriptionStyleModel",
     "state": {
      "_model_module": "@jupyter-widgets/controls",
      "_model_module_version": "1.5.0",
      "_model_name": "DescriptionStyleModel",
      "_view_count": null,
      "_view_module": "@jupyter-widgets/base",
      "_view_module_version": "1.2.0",
      "_view_name": "StyleView",
      "description_width": ""
     }
    },
    "3d5d134463914afa984b0c4c506c1f2d": {
     "model_module": "@jupyter-widgets/controls",
     "model_module_version": "1.5.0",
     "model_name": "DescriptionStyleModel",
     "state": {
      "_model_module": "@jupyter-widgets/controls",
      "_model_module_version": "1.5.0",
      "_model_name": "DescriptionStyleModel",
      "_view_count": null,
      "_view_module": "@jupyter-widgets/base",
      "_view_module_version": "1.2.0",
      "_view_name": "StyleView",
      "description_width": ""
     }
    },
    "4990ed05bd534db6b77df434eeae8666": {
     "model_module": "@jupyter-widgets/base",
     "model_module_version": "1.2.0",
     "model_name": "LayoutModel",
     "state": {
      "_model_module": "@jupyter-widgets/base",
      "_model_module_version": "1.2.0",
      "_model_name": "LayoutModel",
      "_view_count": null,
      "_view_module": "@jupyter-widgets/base",
      "_view_module_version": "1.2.0",
      "_view_name": "LayoutView",
      "align_content": null,
      "align_items": null,
      "align_self": null,
      "border": null,
      "bottom": null,
      "display": null,
      "flex": null,
      "flex_flow": null,
      "grid_area": null,
      "grid_auto_columns": null,
      "grid_auto_flow": null,
      "grid_auto_rows": null,
      "grid_column": null,
      "grid_gap": null,
      "grid_row": null,
      "grid_template_areas": null,
      "grid_template_columns": null,
      "grid_template_rows": null,
      "height": null,
      "justify_content": null,
      "justify_items": null,
      "left": null,
      "margin": null,
      "max_height": null,
      "max_width": null,
      "min_height": null,
      "min_width": null,
      "object_fit": null,
      "object_position": null,
      "order": null,
      "overflow": null,
      "overflow_x": null,
      "overflow_y": null,
      "padding": null,
      "right": null,
      "top": null,
      "visibility": null,
      "width": null
     }
    },
    "4a8d15d7a75b49098b5cb35079b9bd27": {
     "model_module": "@jupyter-widgets/controls",
     "model_module_version": "1.5.0",
     "model_name": "HTMLModel",
     "state": {
      "_dom_classes": [],
      "_model_module": "@jupyter-widgets/controls",
      "_model_module_version": "1.5.0",
      "_model_name": "HTMLModel",
      "_view_count": null,
      "_view_module": "@jupyter-widgets/controls",
      "_view_module_version": "1.5.0",
      "_view_name": "HTMLView",
      "description": "",
      "description_tooltip": null,
      "layout": "IPY_MODEL_80233ed9c2d64dfc8904b9f03dd21abd",
      "placeholder": "​",
      "style": "IPY_MODEL_3959907d7cbd45c8aef909bc00fe40db",
      "value": " 1/1 [01:35&lt;00:00,  5.27s/ url]"
     }
    },
    "50ce50aa3bef448b8cd85923ad7ac7e1": {
     "model_module": "@jupyter-widgets/controls",
     "model_module_version": "1.5.0",
     "model_name": "HTMLModel",
     "state": {
      "_dom_classes": [],
      "_model_module": "@jupyter-widgets/controls",
      "_model_module_version": "1.5.0",
      "_model_name": "HTMLModel",
      "_view_count": null,
      "_view_module": "@jupyter-widgets/controls",
      "_view_module_version": "1.5.0",
      "_view_name": "HTMLView",
      "description": "",
      "description_tooltip": null,
      "layout": "IPY_MODEL_770424d59e4e4e798389fd863834e74a",
      "placeholder": "​",
      "style": "IPY_MODEL_3d5d134463914afa984b0c4c506c1f2d",
      "value": " 0/27000 [00:00&lt;?, ? examples/s]"
     }
    },
    "542a7377c68c40c48220c02483a7be3c": {
     "model_module": "@jupyter-widgets/base",
     "model_module_version": "1.2.0",
     "model_name": "LayoutModel",
     "state": {
      "_model_module": "@jupyter-widgets/base",
      "_model_module_version": "1.2.0",
      "_model_name": "LayoutModel",
      "_view_count": null,
      "_view_module": "@jupyter-widgets/base",
      "_view_module_version": "1.2.0",
      "_view_name": "LayoutView",
      "align_content": null,
      "align_items": null,
      "align_self": null,
      "border": null,
      "bottom": null,
      "display": null,
      "flex": null,
      "flex_flow": null,
      "grid_area": null,
      "grid_auto_columns": null,
      "grid_auto_flow": null,
      "grid_auto_rows": null,
      "grid_column": null,
      "grid_gap": null,
      "grid_row": null,
      "grid_template_areas": null,
      "grid_template_columns": null,
      "grid_template_rows": null,
      "height": null,
      "justify_content": null,
      "justify_items": null,
      "left": null,
      "margin": null,
      "max_height": null,
      "max_width": null,
      "min_height": null,
      "min_width": null,
      "object_fit": null,
      "object_position": null,
      "order": null,
      "overflow": null,
      "overflow_x": null,
      "overflow_y": null,
      "padding": null,
      "right": null,
      "top": null,
      "visibility": null,
      "width": null
     }
    },
    "5f3708ce984c41f89782a639389e74e7": {
     "model_module": "@jupyter-widgets/controls",
     "model_module_version": "1.5.0",
     "model_name": "ProgressStyleModel",
     "state": {
      "_model_module": "@jupyter-widgets/controls",
      "_model_module_version": "1.5.0",
      "_model_name": "ProgressStyleModel",
      "_view_count": null,
      "_view_module": "@jupyter-widgets/base",
      "_view_module_version": "1.2.0",
      "_view_name": "StyleView",
      "bar_color": null,
      "description_width": ""
     }
    },
    "6541008a3f7c4ef698fb5c1c7fd0eb20": {
     "model_module": "@jupyter-widgets/controls",
     "model_module_version": "1.5.0",
     "model_name": "DescriptionStyleModel",
     "state": {
      "_model_module": "@jupyter-widgets/controls",
      "_model_module_version": "1.5.0",
      "_model_name": "DescriptionStyleModel",
      "_view_count": null,
      "_view_module": "@jupyter-widgets/base",
      "_view_module_version": "1.2.0",
      "_view_name": "StyleView",
      "description_width": ""
     }
    },
    "654d94d149e84c9a884cfa910fa5c46a": {
     "model_module": "@jupyter-widgets/base",
     "model_module_version": "1.2.0",
     "model_name": "LayoutModel",
     "state": {
      "_model_module": "@jupyter-widgets/base",
      "_model_module_version": "1.2.0",
      "_model_name": "LayoutModel",
      "_view_count": null,
      "_view_module": "@jupyter-widgets/base",
      "_view_module_version": "1.2.0",
      "_view_name": "LayoutView",
      "align_content": null,
      "align_items": null,
      "align_self": null,
      "border": null,
      "bottom": null,
      "display": null,
      "flex": null,
      "flex_flow": null,
      "grid_area": null,
      "grid_auto_columns": null,
      "grid_auto_flow": null,
      "grid_auto_rows": null,
      "grid_column": null,
      "grid_gap": null,
      "grid_row": null,
      "grid_template_areas": null,
      "grid_template_columns": null,
      "grid_template_rows": null,
      "height": null,
      "justify_content": null,
      "justify_items": null,
      "left": null,
      "margin": null,
      "max_height": null,
      "max_width": null,
      "min_height": null,
      "min_width": null,
      "object_fit": null,
      "object_position": null,
      "order": null,
      "overflow": null,
      "overflow_x": null,
      "overflow_y": null,
      "padding": null,
      "right": null,
      "top": null,
      "visibility": "hidden",
      "width": null
     }
    },
    "6dabed7a48984b279e72cdd2898deda5": {
     "model_module": "@jupyter-widgets/controls",
     "model_module_version": "1.5.0",
     "model_name": "HTMLModel",
     "state": {
      "_dom_classes": [],
      "_model_module": "@jupyter-widgets/controls",
      "_model_module_version": "1.5.0",
      "_model_name": "HTMLModel",
      "_view_count": null,
      "_view_module": "@jupyter-widgets/controls",
      "_view_module_version": "1.5.0",
      "_view_name": "HTMLView",
      "description": "",
      "description_tooltip": null,
      "layout": "IPY_MODEL_a37aa4ac1c2e46dd90558015c944bb71",
      "placeholder": "​",
      "style": "IPY_MODEL_81bc2656be7045349be20cc503c9ac07",
      "value": "Dl Size...: 100%"
     }
    },
    "6ee588cb65c145bc8de88bf267b61ff3": {
     "model_module": "@jupyter-widgets/base",
     "model_module_version": "1.2.0",
     "model_name": "LayoutModel",
     "state": {
      "_model_module": "@jupyter-widgets/base",
      "_model_module_version": "1.2.0",
      "_model_name": "LayoutModel",
      "_view_count": null,
      "_view_module": "@jupyter-widgets/base",
      "_view_module_version": "1.2.0",
      "_view_name": "LayoutView",
      "align_content": null,
      "align_items": null,
      "align_self": null,
      "border": null,
      "bottom": null,
      "display": null,
      "flex": null,
      "flex_flow": null,
      "grid_area": null,
      "grid_auto_columns": null,
      "grid_auto_flow": null,
      "grid_auto_rows": null,
      "grid_column": null,
      "grid_gap": null,
      "grid_row": null,
      "grid_template_areas": null,
      "grid_template_columns": null,
      "grid_template_rows": null,
      "height": null,
      "justify_content": null,
      "justify_items": null,
      "left": null,
      "margin": null,
      "max_height": null,
      "max_width": null,
      "min_height": null,
      "min_width": null,
      "object_fit": null,
      "object_position": null,
      "order": null,
      "overflow": null,
      "overflow_x": null,
      "overflow_y": null,
      "padding": null,
      "right": null,
      "top": null,
      "visibility": null,
      "width": "20px"
     }
    },
    "730678d7f4b249fca5c89b598bf46a3d": {
     "model_module": "@jupyter-widgets/controls",
     "model_module_version": "1.5.0",
     "model_name": "HTMLModel",
     "state": {
      "_dom_classes": [],
      "_model_module": "@jupyter-widgets/controls",
      "_model_module_version": "1.5.0",
      "_model_name": "HTMLModel",
      "_view_count": null,
      "_view_module": "@jupyter-widgets/controls",
      "_view_module_version": "1.5.0",
      "_view_name": "HTMLView",
      "description": "",
      "description_tooltip": null,
      "layout": "IPY_MODEL_8418a23c846f4bb0b0c9c48e79577c95",
      "placeholder": "​",
      "style": "IPY_MODEL_8335c818bd184ff28a740b7dbfcfbfe4",
      "value": " 1/1 [00:14&lt;00:00, 14.57s/ splits]"
     }
    },
    "74ef47d9d79b44218d89e34e4f59ac70": {
     "model_module": "@jupyter-widgets/controls",
     "model_module_version": "1.5.0",
     "model_name": "HBoxModel",
     "state": {
      "_dom_classes": [],
      "_model_module": "@jupyter-widgets/controls",
      "_model_module_version": "1.5.0",
      "_model_name": "HBoxModel",
      "_view_count": null,
      "_view_module": "@jupyter-widgets/controls",
      "_view_module_version": "1.5.0",
      "_view_name": "HBoxView",
      "box_style": "",
      "children": [
       "IPY_MODEL_251a1a5c09ee41df8238224bb50c7a24",
       "IPY_MODEL_ca81dad8a60f43d5bd9b04459921a66c",
       "IPY_MODEL_730678d7f4b249fca5c89b598bf46a3d"
      ],
      "layout": "IPY_MODEL_942062d11ce34ce8afe6352e3eb691a5"
     }
    },
    "770424d59e4e4e798389fd863834e74a": {
     "model_module": "@jupyter-widgets/base",
     "model_module_version": "1.2.0",
     "model_name": "LayoutModel",
     "state": {
      "_model_module": "@jupyter-widgets/base",
      "_model_module_version": "1.2.0",
      "_model_name": "LayoutModel",
      "_view_count": null,
      "_view_module": "@jupyter-widgets/base",
      "_view_module_version": "1.2.0",
      "_view_name": "LayoutView",
      "align_content": null,
      "align_items": null,
      "align_self": null,
      "border": null,
      "bottom": null,
      "display": null,
      "flex": null,
      "flex_flow": null,
      "grid_area": null,
      "grid_auto_columns": null,
      "grid_auto_flow": null,
      "grid_auto_rows": null,
      "grid_column": null,
      "grid_gap": null,
      "grid_row": null,
      "grid_template_areas": null,
      "grid_template_columns": null,
      "grid_template_rows": null,
      "height": null,
      "justify_content": null,
      "justify_items": null,
      "left": null,
      "margin": null,
      "max_height": null,
      "max_width": null,
      "min_height": null,
      "min_width": null,
      "object_fit": null,
      "object_position": null,
      "order": null,
      "overflow": null,
      "overflow_x": null,
      "overflow_y": null,
      "padding": null,
      "right": null,
      "top": null,
      "visibility": null,
      "width": null
     }
    },
    "7926deb3dee04cadac5f7bff217a3774": {
     "model_module": "@jupyter-widgets/controls",
     "model_module_version": "1.5.0",
     "model_name": "FloatProgressModel",
     "state": {
      "_dom_classes": [],
      "_model_module": "@jupyter-widgets/controls",
      "_model_module_version": "1.5.0",
      "_model_name": "FloatProgressModel",
      "_view_count": null,
      "_view_module": "@jupyter-widgets/controls",
      "_view_module_version": "1.5.0",
      "_view_name": "ProgressView",
      "bar_style": "success",
      "description": "",
      "description_tooltip": null,
      "layout": "IPY_MODEL_6ee588cb65c145bc8de88bf267b61ff3",
      "max": 1,
      "min": 0,
      "orientation": "horizontal",
      "style": "IPY_MODEL_5f3708ce984c41f89782a639389e74e7",
      "value": 1
     }
    },
    "7a8617ea913a43588d7df9ad8e16c649": {
     "model_module": "@jupyter-widgets/controls",
     "model_module_version": "1.5.0",
     "model_name": "HTMLModel",
     "state": {
      "_dom_classes": [],
      "_model_module": "@jupyter-widgets/controls",
      "_model_module_version": "1.5.0",
      "_model_name": "HTMLModel",
      "_view_count": null,
      "_view_module": "@jupyter-widgets/controls",
      "_view_module_version": "1.5.0",
      "_view_name": "HTMLView",
      "description": "",
      "description_tooltip": null,
      "layout": "IPY_MODEL_af6ae0e02c884926b518529d5814f472",
      "placeholder": "​",
      "style": "IPY_MODEL_c10dccb4be70461696a390cc52d04efc",
      "value": " 27000/27000 [01:35&lt;00:00, 1095.94 file/s]"
     }
    },
    "7b1b2e99496746d7b8f81376aacf367b": {
     "model_module": "@jupyter-widgets/base",
     "model_module_version": "1.2.0",
     "model_name": "LayoutModel",
     "state": {
      "_model_module": "@jupyter-widgets/base",
      "_model_module_version": "1.2.0",
      "_model_name": "LayoutModel",
      "_view_count": null,
      "_view_module": "@jupyter-widgets/base",
      "_view_module_version": "1.2.0",
      "_view_name": "LayoutView",
      "align_content": null,
      "align_items": null,
      "align_self": null,
      "border": null,
      "bottom": null,
      "display": null,
      "flex": null,
      "flex_flow": null,
      "grid_area": null,
      "grid_auto_columns": null,
      "grid_auto_flow": null,
      "grid_auto_rows": null,
      "grid_column": null,
      "grid_gap": null,
      "grid_row": null,
      "grid_template_areas": null,
      "grid_template_columns": null,
      "grid_template_rows": null,
      "height": null,
      "justify_content": null,
      "justify_items": null,
      "left": null,
      "margin": null,
      "max_height": null,
      "max_width": null,
      "min_height": null,
      "min_width": null,
      "object_fit": null,
      "object_position": null,
      "order": null,
      "overflow": null,
      "overflow_x": null,
      "overflow_y": null,
      "padding": null,
      "right": null,
      "top": null,
      "visibility": null,
      "width": null
     }
    },
    "80233ed9c2d64dfc8904b9f03dd21abd": {
     "model_module": "@jupyter-widgets/base",
     "model_module_version": "1.2.0",
     "model_name": "LayoutModel",
     "state": {
      "_model_module": "@jupyter-widgets/base",
      "_model_module_version": "1.2.0",
      "_model_name": "LayoutModel",
      "_view_count": null,
      "_view_module": "@jupyter-widgets/base",
      "_view_module_version": "1.2.0",
      "_view_name": "LayoutView",
      "align_content": null,
      "align_items": null,
      "align_self": null,
      "border": null,
      "bottom": null,
      "display": null,
      "flex": null,
      "flex_flow": null,
      "grid_area": null,
      "grid_auto_columns": null,
      "grid_auto_flow": null,
      "grid_auto_rows": null,
      "grid_column": null,
      "grid_gap": null,
      "grid_row": null,
      "grid_template_areas": null,
      "grid_template_columns": null,
      "grid_template_rows": null,
      "height": null,
      "justify_content": null,
      "justify_items": null,
      "left": null,
      "margin": null,
      "max_height": null,
      "max_width": null,
      "min_height": null,
      "min_width": null,
      "object_fit": null,
      "object_position": null,
      "order": null,
      "overflow": null,
      "overflow_x": null,
      "overflow_y": null,
      "padding": null,
      "right": null,
      "top": null,
      "visibility": null,
      "width": null
     }
    },
    "81bc2656be7045349be20cc503c9ac07": {
     "model_module": "@jupyter-widgets/controls",
     "model_module_version": "1.5.0",
     "model_name": "DescriptionStyleModel",
     "state": {
      "_model_module": "@jupyter-widgets/controls",
      "_model_module_version": "1.5.0",
      "_model_name": "DescriptionStyleModel",
      "_view_count": null,
      "_view_module": "@jupyter-widgets/base",
      "_view_module_version": "1.2.0",
      "_view_name": "StyleView",
      "description_width": ""
     }
    },
    "8335c818bd184ff28a740b7dbfcfbfe4": {
     "model_module": "@jupyter-widgets/controls",
     "model_module_version": "1.5.0",
     "model_name": "DescriptionStyleModel",
     "state": {
      "_model_module": "@jupyter-widgets/controls",
      "_model_module_version": "1.5.0",
      "_model_name": "DescriptionStyleModel",
      "_view_count": null,
      "_view_module": "@jupyter-widgets/base",
      "_view_module_version": "1.2.0",
      "_view_name": "StyleView",
      "description_width": ""
     }
    },
    "8418a23c846f4bb0b0c9c48e79577c95": {
     "model_module": "@jupyter-widgets/base",
     "model_module_version": "1.2.0",
     "model_name": "LayoutModel",
     "state": {
      "_model_module": "@jupyter-widgets/base",
      "_model_module_version": "1.2.0",
      "_model_name": "LayoutModel",
      "_view_count": null,
      "_view_module": "@jupyter-widgets/base",
      "_view_module_version": "1.2.0",
      "_view_name": "LayoutView",
      "align_content": null,
      "align_items": null,
      "align_self": null,
      "border": null,
      "bottom": null,
      "display": null,
      "flex": null,
      "flex_flow": null,
      "grid_area": null,
      "grid_auto_columns": null,
      "grid_auto_flow": null,
      "grid_auto_rows": null,
      "grid_column": null,
      "grid_gap": null,
      "grid_row": null,
      "grid_template_areas": null,
      "grid_template_columns": null,
      "grid_template_rows": null,
      "height": null,
      "justify_content": null,
      "justify_items": null,
      "left": null,
      "margin": null,
      "max_height": null,
      "max_width": null,
      "min_height": null,
      "min_width": null,
      "object_fit": null,
      "object_position": null,
      "order": null,
      "overflow": null,
      "overflow_x": null,
      "overflow_y": null,
      "padding": null,
      "right": null,
      "top": null,
      "visibility": null,
      "width": null
     }
    },
    "84c1c64df1154fd49817fb32da697ee8": {
     "model_module": "@jupyter-widgets/controls",
     "model_module_version": "1.5.0",
     "model_name": "HBoxModel",
     "state": {
      "_dom_classes": [],
      "_model_module": "@jupyter-widgets/controls",
      "_model_module_version": "1.5.0",
      "_model_name": "HBoxModel",
      "_view_count": null,
      "_view_module": "@jupyter-widgets/controls",
      "_view_module_version": "1.5.0",
      "_view_name": "HBoxView",
      "box_style": "",
      "children": [
       "IPY_MODEL_bca56b3836f54242b648292444000f18",
       "IPY_MODEL_31d4b47de6cf4f9b810a141fbaf7f493",
       "IPY_MODEL_7a8617ea913a43588d7df9ad8e16c649"
      ],
      "layout": "IPY_MODEL_1e246ce351534c0d94e531358aa1c21a"
     }
    },
    "884e6a5aa18e4c1590cd289f9c5b530e": {
     "model_module": "@jupyter-widgets/controls",
     "model_module_version": "1.5.0",
     "model_name": "DescriptionStyleModel",
     "state": {
      "_model_module": "@jupyter-widgets/controls",
      "_model_module_version": "1.5.0",
      "_model_name": "DescriptionStyleModel",
      "_view_count": null,
      "_view_module": "@jupyter-widgets/base",
      "_view_module_version": "1.2.0",
      "_view_name": "StyleView",
      "description_width": ""
     }
    },
    "8d899b42a85e401cbb85e5b63c432bd0": {
     "model_module": "@jupyter-widgets/base",
     "model_module_version": "1.2.0",
     "model_name": "LayoutModel",
     "state": {
      "_model_module": "@jupyter-widgets/base",
      "_model_module_version": "1.2.0",
      "_model_name": "LayoutModel",
      "_view_count": null,
      "_view_module": "@jupyter-widgets/base",
      "_view_module_version": "1.2.0",
      "_view_name": "LayoutView",
      "align_content": null,
      "align_items": null,
      "align_self": null,
      "border": null,
      "bottom": null,
      "display": null,
      "flex": null,
      "flex_flow": null,
      "grid_area": null,
      "grid_auto_columns": null,
      "grid_auto_flow": null,
      "grid_auto_rows": null,
      "grid_column": null,
      "grid_gap": null,
      "grid_row": null,
      "grid_template_areas": null,
      "grid_template_columns": null,
      "grid_template_rows": null,
      "height": null,
      "justify_content": null,
      "justify_items": null,
      "left": null,
      "margin": null,
      "max_height": null,
      "max_width": null,
      "min_height": null,
      "min_width": null,
      "object_fit": null,
      "object_position": null,
      "order": null,
      "overflow": null,
      "overflow_x": null,
      "overflow_y": null,
      "padding": null,
      "right": null,
      "top": null,
      "visibility": null,
      "width": "20px"
     }
    },
    "8f168bfa1f9d48bfb076eb652b48b321": {
     "model_module": "@jupyter-widgets/controls",
     "model_module_version": "1.5.0",
     "model_name": "HBoxModel",
     "state": {
      "_dom_classes": [],
      "_model_module": "@jupyter-widgets/controls",
      "_model_module_version": "1.5.0",
      "_model_name": "HBoxModel",
      "_view_count": null,
      "_view_module": "@jupyter-widgets/controls",
      "_view_module_version": "1.5.0",
      "_view_name": "HBoxView",
      "box_style": "",
      "children": [
       "IPY_MODEL_e0607968dbbd4c06a05c792c8070e116",
       "IPY_MODEL_d19d2449c7bb43f786dbcf3fea680815",
       "IPY_MODEL_24664b39552d4e81bd754f68d7867755"
      ],
      "layout": "IPY_MODEL_654d94d149e84c9a884cfa910fa5c46a"
     }
    },
    "91129b870ade4efb8c145939cd4f9199": {
     "model_module": "@jupyter-widgets/base",
     "model_module_version": "1.2.0",
     "model_name": "LayoutModel",
     "state": {
      "_model_module": "@jupyter-widgets/base",
      "_model_module_version": "1.2.0",
      "_model_name": "LayoutModel",
      "_view_count": null,
      "_view_module": "@jupyter-widgets/base",
      "_view_module_version": "1.2.0",
      "_view_name": "LayoutView",
      "align_content": null,
      "align_items": null,
      "align_self": null,
      "border": null,
      "bottom": null,
      "display": null,
      "flex": null,
      "flex_flow": null,
      "grid_area": null,
      "grid_auto_columns": null,
      "grid_auto_flow": null,
      "grid_auto_rows": null,
      "grid_column": null,
      "grid_gap": null,
      "grid_row": null,
      "grid_template_areas": null,
      "grid_template_columns": null,
      "grid_template_rows": null,
      "height": null,
      "justify_content": null,
      "justify_items": null,
      "left": null,
      "margin": null,
      "max_height": null,
      "max_width": null,
      "min_height": null,
      "min_width": null,
      "object_fit": null,
      "object_position": null,
      "order": null,
      "overflow": null,
      "overflow_x": null,
      "overflow_y": null,
      "padding": null,
      "right": null,
      "top": null,
      "visibility": null,
      "width": null
     }
    },
    "942062d11ce34ce8afe6352e3eb691a5": {
     "model_module": "@jupyter-widgets/base",
     "model_module_version": "1.2.0",
     "model_name": "LayoutModel",
     "state": {
      "_model_module": "@jupyter-widgets/base",
      "_model_module_version": "1.2.0",
      "_model_name": "LayoutModel",
      "_view_count": null,
      "_view_module": "@jupyter-widgets/base",
      "_view_module_version": "1.2.0",
      "_view_name": "LayoutView",
      "align_content": null,
      "align_items": null,
      "align_self": null,
      "border": null,
      "bottom": null,
      "display": null,
      "flex": null,
      "flex_flow": null,
      "grid_area": null,
      "grid_auto_columns": null,
      "grid_auto_flow": null,
      "grid_auto_rows": null,
      "grid_column": null,
      "grid_gap": null,
      "grid_row": null,
      "grid_template_areas": null,
      "grid_template_columns": null,
      "grid_template_rows": null,
      "height": null,
      "justify_content": null,
      "justify_items": null,
      "left": null,
      "margin": null,
      "max_height": null,
      "max_width": null,
      "min_height": null,
      "min_width": null,
      "object_fit": null,
      "object_position": null,
      "order": null,
      "overflow": null,
      "overflow_x": null,
      "overflow_y": null,
      "padding": null,
      "right": null,
      "top": null,
      "visibility": "hidden",
      "width": null
     }
    },
    "9431943e740e43baa8584ee282bbf1a2": {
     "model_module": "@jupyter-widgets/controls",
     "model_module_version": "1.5.0",
     "model_name": "FloatProgressModel",
     "state": {
      "_dom_classes": [],
      "_model_module": "@jupyter-widgets/controls",
      "_model_module_version": "1.5.0",
      "_model_name": "FloatProgressModel",
      "_view_count": null,
      "_view_module": "@jupyter-widgets/controls",
      "_view_module_version": "1.5.0",
      "_view_name": "ProgressView",
      "bar_style": "",
      "description": "",
      "description_tooltip": null,
      "layout": "IPY_MODEL_334642e66cb140eba0f86db46d35c5b9",
      "max": 27000,
      "min": 0,
      "orientation": "horizontal",
      "style": "IPY_MODEL_e59c2d0c57fe43f1b8d6e0af3196595b",
      "value": 27000
     }
    },
    "95d39be4dea34bd49964529dc4f2f73d": {
     "model_module": "@jupyter-widgets/controls",
     "model_module_version": "1.5.0",
     "model_name": "ProgressStyleModel",
     "state": {
      "_model_module": "@jupyter-widgets/controls",
      "_model_module_version": "1.5.0",
      "_model_name": "ProgressStyleModel",
      "_view_count": null,
      "_view_module": "@jupyter-widgets/base",
      "_view_module_version": "1.2.0",
      "_view_name": "StyleView",
      "bar_color": null,
      "description_width": ""
     }
    },
    "984a2fb0a36748baa33a0b2746c2ef4e": {
     "model_module": "@jupyter-widgets/controls",
     "model_module_version": "1.5.0",
     "model_name": "DescriptionStyleModel",
     "state": {
      "_model_module": "@jupyter-widgets/controls",
      "_model_module_version": "1.5.0",
      "_model_name": "DescriptionStyleModel",
      "_view_count": null,
      "_view_module": "@jupyter-widgets/base",
      "_view_module_version": "1.2.0",
      "_view_name": "StyleView",
      "description_width": ""
     }
    },
    "9b164849058c433d93b1c078e4de24f1": {
     "model_module": "@jupyter-widgets/controls",
     "model_module_version": "1.5.0",
     "model_name": "HBoxModel",
     "state": {
      "_dom_classes": [],
      "_model_module": "@jupyter-widgets/controls",
      "_model_module_version": "1.5.0",
      "_model_name": "HBoxModel",
      "_view_count": null,
      "_view_module": "@jupyter-widgets/controls",
      "_view_module_version": "1.5.0",
      "_view_name": "HBoxView",
      "box_style": "",
      "children": [
       "IPY_MODEL_00ad264d0f8d4d6ea4e5219d833d673a",
       "IPY_MODEL_9431943e740e43baa8584ee282bbf1a2",
       "IPY_MODEL_50ce50aa3bef448b8cd85923ad7ac7e1"
      ],
      "layout": "IPY_MODEL_e9cbb7e87e8c4814bc1204e88f2e27ad"
     }
    },
    "9d51812e54934c37b3e9cc5e573c58d7": {
     "model_module": "@jupyter-widgets/controls",
     "model_module_version": "1.5.0",
     "model_name": "HBoxModel",
     "state": {
      "_dom_classes": [],
      "_model_module": "@jupyter-widgets/controls",
      "_model_module_version": "1.5.0",
      "_model_name": "HBoxModel",
      "_view_count": null,
      "_view_module": "@jupyter-widgets/controls",
      "_view_module_version": "1.5.0",
      "_view_name": "HBoxView",
      "box_style": "",
      "children": [
       "IPY_MODEL_cf455f63ddbc48cab4a2728e38148109",
       "IPY_MODEL_7926deb3dee04cadac5f7bff217a3774",
       "IPY_MODEL_4a8d15d7a75b49098b5cb35079b9bd27"
      ],
      "layout": "IPY_MODEL_91129b870ade4efb8c145939cd4f9199"
     }
    },
    "a37aa4ac1c2e46dd90558015c944bb71": {
     "model_module": "@jupyter-widgets/base",
     "model_module_version": "1.2.0",
     "model_name": "LayoutModel",
     "state": {
      "_model_module": "@jupyter-widgets/base",
      "_model_module_version": "1.2.0",
      "_model_name": "LayoutModel",
      "_view_count": null,
      "_view_module": "@jupyter-widgets/base",
      "_view_module_version": "1.2.0",
      "_view_name": "LayoutView",
      "align_content": null,
      "align_items": null,
      "align_self": null,
      "border": null,
      "bottom": null,
      "display": null,
      "flex": null,
      "flex_flow": null,
      "grid_area": null,
      "grid_auto_columns": null,
      "grid_auto_flow": null,
      "grid_auto_rows": null,
      "grid_column": null,
      "grid_gap": null,
      "grid_row": null,
      "grid_template_areas": null,
      "grid_template_columns": null,
      "grid_template_rows": null,
      "height": null,
      "justify_content": null,
      "justify_items": null,
      "left": null,
      "margin": null,
      "max_height": null,
      "max_width": null,
      "min_height": null,
      "min_width": null,
      "object_fit": null,
      "object_position": null,
      "order": null,
      "overflow": null,
      "overflow_x": null,
      "overflow_y": null,
      "padding": null,
      "right": null,
      "top": null,
      "visibility": null,
      "width": null
     }
    },
    "af6ae0e02c884926b518529d5814f472": {
     "model_module": "@jupyter-widgets/base",
     "model_module_version": "1.2.0",
     "model_name": "LayoutModel",
     "state": {
      "_model_module": "@jupyter-widgets/base",
      "_model_module_version": "1.2.0",
      "_model_name": "LayoutModel",
      "_view_count": null,
      "_view_module": "@jupyter-widgets/base",
      "_view_module_version": "1.2.0",
      "_view_name": "LayoutView",
      "align_content": null,
      "align_items": null,
      "align_self": null,
      "border": null,
      "bottom": null,
      "display": null,
      "flex": null,
      "flex_flow": null,
      "grid_area": null,
      "grid_auto_columns": null,
      "grid_auto_flow": null,
      "grid_auto_rows": null,
      "grid_column": null,
      "grid_gap": null,
      "grid_row": null,
      "grid_template_areas": null,
      "grid_template_columns": null,
      "grid_template_rows": null,
      "height": null,
      "justify_content": null,
      "justify_items": null,
      "left": null,
      "margin": null,
      "max_height": null,
      "max_width": null,
      "min_height": null,
      "min_width": null,
      "object_fit": null,
      "object_position": null,
      "order": null,
      "overflow": null,
      "overflow_x": null,
      "overflow_y": null,
      "padding": null,
      "right": null,
      "top": null,
      "visibility": null,
      "width": null
     }
    },
    "b8e893c14adc464288714e73f47b51bd": {
     "model_module": "@jupyter-widgets/controls",
     "model_module_version": "1.5.0",
     "model_name": "DescriptionStyleModel",
     "state": {
      "_model_module": "@jupyter-widgets/controls",
      "_model_module_version": "1.5.0",
      "_model_name": "DescriptionStyleModel",
      "_view_count": null,
      "_view_module": "@jupyter-widgets/base",
      "_view_module_version": "1.2.0",
      "_view_name": "StyleView",
      "description_width": ""
     }
    },
    "b92e7883b26e477d9bf81df34f39d248": {
     "model_module": "@jupyter-widgets/base",
     "model_module_version": "1.2.0",
     "model_name": "LayoutModel",
     "state": {
      "_model_module": "@jupyter-widgets/base",
      "_model_module_version": "1.2.0",
      "_model_name": "LayoutModel",
      "_view_count": null,
      "_view_module": "@jupyter-widgets/base",
      "_view_module_version": "1.2.0",
      "_view_name": "LayoutView",
      "align_content": null,
      "align_items": null,
      "align_self": null,
      "border": null,
      "bottom": null,
      "display": null,
      "flex": null,
      "flex_flow": null,
      "grid_area": null,
      "grid_auto_columns": null,
      "grid_auto_flow": null,
      "grid_auto_rows": null,
      "grid_column": null,
      "grid_gap": null,
      "grid_row": null,
      "grid_template_areas": null,
      "grid_template_columns": null,
      "grid_template_rows": null,
      "height": null,
      "justify_content": null,
      "justify_items": null,
      "left": null,
      "margin": null,
      "max_height": null,
      "max_width": null,
      "min_height": null,
      "min_width": null,
      "object_fit": null,
      "object_position": null,
      "order": null,
      "overflow": null,
      "overflow_x": null,
      "overflow_y": null,
      "padding": null,
      "right": null,
      "top": null,
      "visibility": null,
      "width": null
     }
    },
    "ba3c84c8cb5f4d0a944623645cc270ff": {
     "model_module": "@jupyter-widgets/controls",
     "model_module_version": "1.5.0",
     "model_name": "ProgressStyleModel",
     "state": {
      "_model_module": "@jupyter-widgets/controls",
      "_model_module_version": "1.5.0",
      "_model_name": "ProgressStyleModel",
      "_view_count": null,
      "_view_module": "@jupyter-widgets/base",
      "_view_module_version": "1.2.0",
      "_view_name": "StyleView",
      "bar_color": null,
      "description_width": ""
     }
    },
    "bca56b3836f54242b648292444000f18": {
     "model_module": "@jupyter-widgets/controls",
     "model_module_version": "1.5.0",
     "model_name": "HTMLModel",
     "state": {
      "_dom_classes": [],
      "_model_module": "@jupyter-widgets/controls",
      "_model_module_version": "1.5.0",
      "_model_name": "HTMLModel",
      "_view_count": null,
      "_view_module": "@jupyter-widgets/controls",
      "_view_module_version": "1.5.0",
      "_view_name": "HTMLView",
      "description": "",
      "description_tooltip": null,
      "layout": "IPY_MODEL_edaec39a26cf4165b6668aa00150f15f",
      "placeholder": "​",
      "style": "IPY_MODEL_984a2fb0a36748baa33a0b2746c2ef4e",
      "value": "Extraction completed...: 100%"
     }
    },
    "bd304e7cd06c407f802479380a11c6ae": {
     "model_module": "@jupyter-widgets/controls",
     "model_module_version": "1.5.0",
     "model_name": "DescriptionStyleModel",
     "state": {
      "_model_module": "@jupyter-widgets/controls",
      "_model_module_version": "1.5.0",
      "_model_name": "DescriptionStyleModel",
      "_view_count": null,
      "_view_module": "@jupyter-widgets/base",
      "_view_module_version": "1.2.0",
      "_view_name": "StyleView",
      "description_width": ""
     }
    },
    "c10dccb4be70461696a390cc52d04efc": {
     "model_module": "@jupyter-widgets/controls",
     "model_module_version": "1.5.0",
     "model_name": "DescriptionStyleModel",
     "state": {
      "_model_module": "@jupyter-widgets/controls",
      "_model_module_version": "1.5.0",
      "_model_name": "DescriptionStyleModel",
      "_view_count": null,
      "_view_module": "@jupyter-widgets/base",
      "_view_module_version": "1.2.0",
      "_view_name": "StyleView",
      "description_width": ""
     }
    },
    "c4e50d36831e43f2a846bf3b02122e8f": {
     "model_module": "@jupyter-widgets/controls",
     "model_module_version": "1.5.0",
     "model_name": "DescriptionStyleModel",
     "state": {
      "_model_module": "@jupyter-widgets/controls",
      "_model_module_version": "1.5.0",
      "_model_name": "DescriptionStyleModel",
      "_view_count": null,
      "_view_module": "@jupyter-widgets/base",
      "_view_module_version": "1.2.0",
      "_view_name": "StyleView",
      "description_width": ""
     }
    },
    "c997faab86114b0d8285bb1ff9eb0745": {
     "model_module": "@jupyter-widgets/base",
     "model_module_version": "1.2.0",
     "model_name": "LayoutModel",
     "state": {
      "_model_module": "@jupyter-widgets/base",
      "_model_module_version": "1.2.0",
      "_model_name": "LayoutModel",
      "_view_count": null,
      "_view_module": "@jupyter-widgets/base",
      "_view_module_version": "1.2.0",
      "_view_name": "LayoutView",
      "align_content": null,
      "align_items": null,
      "align_self": null,
      "border": null,
      "bottom": null,
      "display": null,
      "flex": null,
      "flex_flow": null,
      "grid_area": null,
      "grid_auto_columns": null,
      "grid_auto_flow": null,
      "grid_auto_rows": null,
      "grid_column": null,
      "grid_gap": null,
      "grid_row": null,
      "grid_template_areas": null,
      "grid_template_columns": null,
      "grid_template_rows": null,
      "height": null,
      "justify_content": null,
      "justify_items": null,
      "left": null,
      "margin": null,
      "max_height": null,
      "max_width": null,
      "min_height": null,
      "min_width": null,
      "object_fit": null,
      "object_position": null,
      "order": null,
      "overflow": null,
      "overflow_x": null,
      "overflow_y": null,
      "padding": null,
      "right": null,
      "top": null,
      "visibility": null,
      "width": null
     }
    },
    "ca81dad8a60f43d5bd9b04459921a66c": {
     "model_module": "@jupyter-widgets/controls",
     "model_module_version": "1.5.0",
     "model_name": "FloatProgressModel",
     "state": {
      "_dom_classes": [],
      "_model_module": "@jupyter-widgets/controls",
      "_model_module_version": "1.5.0",
      "_model_name": "FloatProgressModel",
      "_view_count": null,
      "_view_module": "@jupyter-widgets/controls",
      "_view_module_version": "1.5.0",
      "_view_name": "ProgressView",
      "bar_style": "",
      "description": "",
      "description_tooltip": null,
      "layout": "IPY_MODEL_4990ed05bd534db6b77df434eeae8666",
      "max": 1,
      "min": 0,
      "orientation": "horizontal",
      "style": "IPY_MODEL_ba3c84c8cb5f4d0a944623645cc270ff",
      "value": 1
     }
    },
    "cf455f63ddbc48cab4a2728e38148109": {
     "model_module": "@jupyter-widgets/controls",
     "model_module_version": "1.5.0",
     "model_name": "HTMLModel",
     "state": {
      "_dom_classes": [],
      "_model_module": "@jupyter-widgets/controls",
      "_model_module_version": "1.5.0",
      "_model_name": "HTMLModel",
      "_view_count": null,
      "_view_module": "@jupyter-widgets/controls",
      "_view_module_version": "1.5.0",
      "_view_name": "HTMLView",
      "description": "",
      "description_tooltip": null,
      "layout": "IPY_MODEL_542a7377c68c40c48220c02483a7be3c",
      "placeholder": "​",
      "style": "IPY_MODEL_16a736ad4af44e2880d96fa2f3f6d36f",
      "value": "Dl Completed...: 100%"
     }
    },
    "d0425649b0cf45ed8714d3d59fa8062e": {
     "model_module": "@jupyter-widgets/base",
     "model_module_version": "1.2.0",
     "model_name": "LayoutModel",
     "state": {
      "_model_module": "@jupyter-widgets/base",
      "_model_module_version": "1.2.0",
      "_model_name": "LayoutModel",
      "_view_count": null,
      "_view_module": "@jupyter-widgets/base",
      "_view_module_version": "1.2.0",
      "_view_name": "LayoutView",
      "align_content": null,
      "align_items": null,
      "align_self": null,
      "border": null,
      "bottom": null,
      "display": null,
      "flex": null,
      "flex_flow": null,
      "grid_area": null,
      "grid_auto_columns": null,
      "grid_auto_flow": null,
      "grid_auto_rows": null,
      "grid_column": null,
      "grid_gap": null,
      "grid_row": null,
      "grid_template_areas": null,
      "grid_template_columns": null,
      "grid_template_rows": null,
      "height": null,
      "justify_content": null,
      "justify_items": null,
      "left": null,
      "margin": null,
      "max_height": null,
      "max_width": null,
      "min_height": null,
      "min_width": null,
      "object_fit": null,
      "object_position": null,
      "order": null,
      "overflow": null,
      "overflow_x": null,
      "overflow_y": null,
      "padding": null,
      "right": null,
      "top": null,
      "visibility": null,
      "width": null
     }
    },
    "d19d2449c7bb43f786dbcf3fea680815": {
     "model_module": "@jupyter-widgets/controls",
     "model_module_version": "1.5.0",
     "model_name": "FloatProgressModel",
     "state": {
      "_dom_classes": [],
      "_model_module": "@jupyter-widgets/controls",
      "_model_module_version": "1.5.0",
      "_model_name": "FloatProgressModel",
      "_view_count": null,
      "_view_module": "@jupyter-widgets/controls",
      "_view_module_version": "1.5.0",
      "_view_name": "ProgressView",
      "bar_style": "info",
      "description": "",
      "description_tooltip": null,
      "layout": "IPY_MODEL_32ea1f3568da4369af45078af4b0ba0e",
      "max": 1,
      "min": 0,
      "orientation": "horizontal",
      "style": "IPY_MODEL_33ab054e11f24639800a732fe7b418f1",
      "value": 1
     }
    },
    "dea55a73427b4cf0bb0dae298ab278a6": {
     "model_module": "@jupyter-widgets/controls",
     "model_module_version": "1.5.0",
     "model_name": "FloatProgressModel",
     "state": {
      "_dom_classes": [],
      "_model_module": "@jupyter-widgets/controls",
      "_model_module_version": "1.5.0",
      "_model_name": "FloatProgressModel",
      "_view_count": null,
      "_view_module": "@jupyter-widgets/controls",
      "_view_module_version": "1.5.0",
      "_view_name": "ProgressView",
      "bar_style": "success",
      "description": "",
      "description_tooltip": null,
      "layout": "IPY_MODEL_12d89e5277c7455281e6708c950e494d",
      "max": 1,
      "min": 0,
      "orientation": "horizontal",
      "style": "IPY_MODEL_95d39be4dea34bd49964529dc4f2f73d",
      "value": 1
     }
    },
    "e0607968dbbd4c06a05c792c8070e116": {
     "model_module": "@jupyter-widgets/controls",
     "model_module_version": "1.5.0",
     "model_name": "HTMLModel",
     "state": {
      "_dom_classes": [],
      "_model_module": "@jupyter-widgets/controls",
      "_model_module_version": "1.5.0",
      "_model_name": "HTMLModel",
      "_view_count": null,
      "_view_module": "@jupyter-widgets/controls",
      "_view_module_version": "1.5.0",
      "_view_name": "HTMLView",
      "description": "",
      "description_tooltip": null,
      "layout": "IPY_MODEL_165fba41714b4c72ac29080f67e54c8e",
      "placeholder": "​",
      "style": "IPY_MODEL_b8e893c14adc464288714e73f47b51bd",
      "value": "Generating train examples...: "
     }
    },
    "e0941af186544c939a2e8cbb291e5fb7": {
     "model_module": "@jupyter-widgets/controls",
     "model_module_version": "1.5.0",
     "model_name": "HBoxModel",
     "state": {
      "_dom_classes": [],
      "_model_module": "@jupyter-widgets/controls",
      "_model_module_version": "1.5.0",
      "_model_name": "HBoxModel",
      "_view_count": null,
      "_view_module": "@jupyter-widgets/controls",
      "_view_module_version": "1.5.0",
      "_view_name": "HBoxView",
      "box_style": "",
      "children": [
       "IPY_MODEL_6dabed7a48984b279e72cdd2898deda5",
       "IPY_MODEL_dea55a73427b4cf0bb0dae298ab278a6",
       "IPY_MODEL_f767af43e1e14cdda775c620117a6f29"
      ],
      "layout": "IPY_MODEL_7b1b2e99496746d7b8f81376aacf367b"
     }
    },
    "e59c2d0c57fe43f1b8d6e0af3196595b": {
     "model_module": "@jupyter-widgets/controls",
     "model_module_version": "1.5.0",
     "model_name": "ProgressStyleModel",
     "state": {
      "_model_module": "@jupyter-widgets/controls",
      "_model_module_version": "1.5.0",
      "_model_name": "ProgressStyleModel",
      "_view_count": null,
      "_view_module": "@jupyter-widgets/base",
      "_view_module_version": "1.2.0",
      "_view_name": "StyleView",
      "bar_color": null,
      "description_width": ""
     }
    },
    "e9cbb7e87e8c4814bc1204e88f2e27ad": {
     "model_module": "@jupyter-widgets/base",
     "model_module_version": "1.2.0",
     "model_name": "LayoutModel",
     "state": {
      "_model_module": "@jupyter-widgets/base",
      "_model_module_version": "1.2.0",
      "_model_name": "LayoutModel",
      "_view_count": null,
      "_view_module": "@jupyter-widgets/base",
      "_view_module_version": "1.2.0",
      "_view_name": "LayoutView",
      "align_content": null,
      "align_items": null,
      "align_self": null,
      "border": null,
      "bottom": null,
      "display": null,
      "flex": null,
      "flex_flow": null,
      "grid_area": null,
      "grid_auto_columns": null,
      "grid_auto_flow": null,
      "grid_auto_rows": null,
      "grid_column": null,
      "grid_gap": null,
      "grid_row": null,
      "grid_template_areas": null,
      "grid_template_columns": null,
      "grid_template_rows": null,
      "height": null,
      "justify_content": null,
      "justify_items": null,
      "left": null,
      "margin": null,
      "max_height": null,
      "max_width": null,
      "min_height": null,
      "min_width": null,
      "object_fit": null,
      "object_position": null,
      "order": null,
      "overflow": null,
      "overflow_x": null,
      "overflow_y": null,
      "padding": null,
      "right": null,
      "top": null,
      "visibility": "hidden",
      "width": null
     }
    },
    "edaec39a26cf4165b6668aa00150f15f": {
     "model_module": "@jupyter-widgets/base",
     "model_module_version": "1.2.0",
     "model_name": "LayoutModel",
     "state": {
      "_model_module": "@jupyter-widgets/base",
      "_model_module_version": "1.2.0",
      "_model_name": "LayoutModel",
      "_view_count": null,
      "_view_module": "@jupyter-widgets/base",
      "_view_module_version": "1.2.0",
      "_view_name": "LayoutView",
      "align_content": null,
      "align_items": null,
      "align_self": null,
      "border": null,
      "bottom": null,
      "display": null,
      "flex": null,
      "flex_flow": null,
      "grid_area": null,
      "grid_auto_columns": null,
      "grid_auto_flow": null,
      "grid_auto_rows": null,
      "grid_column": null,
      "grid_gap": null,
      "grid_row": null,
      "grid_template_areas": null,
      "grid_template_columns": null,
      "grid_template_rows": null,
      "height": null,
      "justify_content": null,
      "justify_items": null,
      "left": null,
      "margin": null,
      "max_height": null,
      "max_width": null,
      "min_height": null,
      "min_width": null,
      "object_fit": null,
      "object_position": null,
      "order": null,
      "overflow": null,
      "overflow_x": null,
      "overflow_y": null,
      "padding": null,
      "right": null,
      "top": null,
      "visibility": null,
      "width": null
     }
    },
    "f767af43e1e14cdda775c620117a6f29": {
     "model_module": "@jupyter-widgets/controls",
     "model_module_version": "1.5.0",
     "model_name": "HTMLModel",
     "state": {
      "_dom_classes": [],
      "_model_module": "@jupyter-widgets/controls",
      "_model_module_version": "1.5.0",
      "_model_name": "HTMLModel",
      "_view_count": null,
      "_view_module": "@jupyter-widgets/controls",
      "_view_module_version": "1.5.0",
      "_view_name": "HTMLView",
      "description": "",
      "description_tooltip": null,
      "layout": "IPY_MODEL_b92e7883b26e477d9bf81df34f39d248",
      "placeholder": "​",
      "style": "IPY_MODEL_6541008a3f7c4ef698fb5c1c7fd0eb20",
      "value": " 89/89 [01:35&lt;00:00, 19.60 MiB/s]"
     }
    }
   }
  }
 },
 "nbformat": 4,
 "nbformat_minor": 0
}
